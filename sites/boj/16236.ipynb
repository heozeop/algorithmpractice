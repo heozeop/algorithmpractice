{
 "cells": [
  {
   "cell_type": "code",
   "execution_count": 18,
   "id": "189fdb25",
   "metadata": {},
   "outputs": [
    {
     "name": "stdout",
     "output_type": "stream",
     "text": [
      "6\n",
      "5 4 3 2 3 4\n",
      "4 3 2 3 4 5\n",
      "3 2 9 5 6 6\n",
      "2 1 2 3 4 5\n",
      "3 2 1 6 5 4\n",
      "6 6 6 6 6 6\n"
     ]
    }
   ],
   "source": [
    "from collections import deque\n",
    "\n",
    "n = int(input())\n",
    "\n",
    "n_space = []\n",
    "for _ in range(n):\n",
    "    n_space.append(list(map(int, input().split())))\n"
   ]
  },
  {
   "cell_type": "code",
   "execution_count": 56,
   "id": "754cef5f",
   "metadata": {},
   "outputs": [],
   "source": [
    "n = 6\n",
    "n_space = list(map(lambda a: list(map(int, a.split())),\"\"\"5 4 3 2 3 4\n",
    "4 3 2 3 4 5\n",
    "3 2 9 5 6 6\n",
    "2 1 2 3 4 5\n",
    "3 2 1 6 5 4\n",
    "6 6 6 6 6 6\"\"\".split('\\n')))"
   ]
  },
  {
   "cell_type": "code",
   "execution_count": 57,
   "id": "ff2373a2",
   "metadata": {},
   "outputs": [
    {
     "name": "stdout",
     "output_type": "stream",
     "text": [
      "60\n"
     ]
    }
   ],
   "source": [
    "INF = 1e9\n",
    "ate_count = 0\n",
    "shark_size = 2\n",
    "shark_pos = []\n",
    "happy_time = 0\n",
    "directions = [\n",
    "    [-1, 0],\n",
    "    [0, -1],\n",
    "    [1,0],\n",
    "    [0, 1],\n",
    "]\n",
    "\n",
    "for i in range(n):\n",
    "    for j in range(n):\n",
    "        if n_space[i][j] == 9:\n",
    "            shark_pos = [i,j]\n",
    "            n_space[i][j] = 0\n",
    "\n",
    "\n",
    "def bfs(x,y):\n",
    "    global n, shark_size,n_space\n",
    "    queue = deque()\n",
    "    queue.append([x,y])\n",
    "    visited = [[-1] * n for _ in range(n)]\n",
    "    visited[x][y] = 0\n",
    "    \n",
    "    while len(queue) > 0:\n",
    "        cur_x, cur_y = queue.popleft()\n",
    "        \n",
    "        for i in range(4):\n",
    "            nx = cur_x + directions[i][0]\n",
    "            ny = cur_y + directions[i][1]\n",
    "            \n",
    "            if nx < 0 or ny < 0 or nx >= n or ny >= n:\n",
    "                continue\n",
    "            if n_space[nx][ny] > shark_size:\n",
    "                continue\n",
    "            if visited[nx][ny] != -1:\n",
    "                continue\n",
    "            \n",
    "            visited[nx][ny] = visited[cur_x][cur_y] + 1\n",
    "            queue.append([nx,ny])\n",
    "    return visited\n",
    "\n",
    "def checkMin(visited):\n",
    "    global shark_size\n",
    "    \n",
    "    x,y = 0, 0\n",
    "    min_distance = INF\n",
    "    for i in range(n):\n",
    "        for j in range(n):\n",
    "            if visited[i][j] == -1:\n",
    "                continue\n",
    "            if n_space[i][j] == 0 or n_space[i][j] >= shark_size:\n",
    "                continue\n",
    "            if visited[i][j] >= min_distance:\n",
    "                continue\n",
    "            min_distance = visited[i][j]\n",
    "            x, y = i, j\n",
    "            \n",
    "    if min_distance == INF:\n",
    "        return False\n",
    "    \n",
    "    return x, y, min_distance\n",
    "                \n",
    "\n",
    "while(True):\n",
    "    result = checkMin(bfs(shark_pos[0], shark_pos[1]))\n",
    "    if result == False:\n",
    "        break;\n",
    "\n",
    "    nx,ny,time = result\n",
    "\n",
    "    shark_pos = [nx, ny]\n",
    "    happy_time += time\n",
    "    \n",
    "    ate_count += 1\n",
    "    n_space[nx][ny] = 0\n",
    "    \n",
    "    if ate_count == shark_size:\n",
    "        shark_size += 1\n",
    "        ate_count = 0\n",
    "\n",
    "print(happy_time)"
   ]
  },
  {
   "cell_type": "code",
   "execution_count": null,
   "id": "ee398434",
   "metadata": {},
   "outputs": [],
   "source": []
  }
 ],
 "metadata": {
  "kernelspec": {
   "display_name": "Python 3 (ipykernel)",
   "language": "python",
   "name": "python3"
  },
  "language_info": {
   "codemirror_mode": {
    "name": "ipython",
    "version": 3
   },
   "file_extension": ".py",
   "mimetype": "text/x-python",
   "name": "python",
   "nbconvert_exporter": "python",
   "pygments_lexer": "ipython3",
   "version": "3.10.0"
  }
 },
 "nbformat": 4,
 "nbformat_minor": 5
}
