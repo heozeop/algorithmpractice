{
 "cells": [
  {
   "cell_type": "code",
   "execution_count": null,
   "id": "2a4e9c2d",
   "metadata": {},
   "outputs": [
    {
     "name": "stdout",
     "output_type": "stream",
     "text": [
      "5\n",
      "RRRBB\n",
      "GGBBB\n",
      "BBBRR\n",
      "BBRRR\n"
     ]
    }
   ],
   "source": [
    "import sys\n",
    "sys.setrecursionlimit(10000)\n",
    "\n",
    "DIRECTIONS = [[0,1], [0,-1], [1,0], [-1,0]]\n",
    "VISITED = 1\n",
    "\n",
    "def dfs(x,y,target, visit_map, n):\n",
    "    global VISITED\n",
    "    \n",
    "    for i in range(4):\n",
    "        nx = x + DIRECTIONS[i][0]\n",
    "        ny = y + DIRECTIONS[i][1]\n",
    "        \n",
    "        if nx < 0 or ny < 0 or nx >= n or ny >= n:\n",
    "            continue\n",
    "        if visit_map[nx][ny] != target:\n",
    "            continue\n",
    "        visit_map[nx][ny] = VISITED\n",
    "        dfs(nx,ny,target,visit_map,n)\n",
    "\n",
    "def copy_map(source_map, n,is_red_green_blind):\n",
    "    visit_map = [[0] * n for _ in range(n)]\n",
    "    \n",
    "    for i in range(n):\n",
    "        for j in range(n):\n",
    "            visit_map[i][j] = source_map[i][j]\n",
    "            \n",
    "            if is_red_green_blind and visit_map[i][j] == 'G':\n",
    "                visit_map[i][j] = 'R'\n",
    "    return visit_map\n",
    "\n",
    "def find_sections(visit_map, n):\n",
    "    count = 0\n",
    "    for i in range(n):\n",
    "        for j in range(n):\n",
    "            if visit_map[i][j] == VISITED:\n",
    "                continue\n",
    "            count += 1\n",
    "            target =visit_map[i][j]\n",
    "            visit_map[i][j] = VISITED\n",
    "            dfs(i,j,target,visit_map,n)\n",
    "            \n",
    "    return count\n",
    "                \n",
    "if __name__ == \"__main__\":\n",
    "    n = int(input())\n",
    "    source_map = []\n",
    "    \n",
    "    for _ in range(n):\n",
    "        source_map.append(list(input()))\n",
    "    \n",
    "    visit_map = copy_map(source_map, n, False)\n",
    "    section_count = find_sections(visit_map, n)\n",
    "    print(section_count)\n",
    "    \n",
    "    visit_map = copy_map(source_map, n, True)\n",
    "    print(find_sections(visit_map,n))\n",
    "    "
   ]
  },
  {
   "cell_type": "code",
   "execution_count": null,
   "id": "678c1f4a",
   "metadata": {},
   "outputs": [],
   "source": []
  }
 ],
 "metadata": {
  "kernelspec": {
   "display_name": "Python 3 (ipykernel)",
   "language": "python",
   "name": "python3"
  },
  "language_info": {
   "codemirror_mode": {
    "name": "ipython",
    "version": 3
   },
   "file_extension": ".py",
   "mimetype": "text/x-python",
   "name": "python",
   "nbconvert_exporter": "python",
   "pygments_lexer": "ipython3",
   "version": "3.10.0"
  }
 },
 "nbformat": 4,
 "nbformat_minor": 5
}
