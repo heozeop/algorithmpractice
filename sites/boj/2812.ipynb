{
 "cells": [
  {
   "cell_type": "code",
   "execution_count": 31,
   "id": "968b4d4e",
   "metadata": {},
   "outputs": [
    {
     "name": "stdout",
     "output_type": "stream",
     "text": [
      "10 4\n",
      "4177242841\n",
      "0 2 4\n",
      "3 3 2\n",
      "4 5 2\n",
      "6 7 1\n",
      "['7', '7', '4', '8'] 8 ['4', '1']\n",
      "774841\n"
     ]
    }
   ],
   "source": [
    "n,k = map(int, input().split())\n",
    "\n",
    "data = list(input())\n",
    "\n",
    "itemList = []\n",
    "\n",
    "def findMaxNumIndex(base, watch):\n",
    "    maxNum = '0'\n",
    "    maxNumIdx = -1\n",
    "    for i in range(base, base + watch + 1):\n",
    "        if i >= n:\n",
    "            continue\n",
    "        \n",
    "        if maxNum < data[i]:\n",
    "            maxNumIdx = i\n",
    "            maxNum = data[i]\n",
    "\n",
    "    return maxNumIdx\n",
    "\n",
    "numList = []\n",
    "base = 0\n",
    "maxNumIndex = 0\n",
    "while k > 0:\n",
    "    maxNumIndex = findMaxNumIndex(base, k)\n",
    "    if maxNumIndex < 0:\n",
    "        break\n",
    "    \n",
    "    k -= maxNumIndex - base\n",
    "    numList.append(data[maxNumIndex])\n",
    "    base = maxNumIndex + 1\n",
    "    \n",
    "print(\"\".join(numList + data[base:]))"
   ]
  },
  {
   "cell_type": "code",
   "execution_count": 29,
   "id": "6ce8faab",
   "metadata": {},
   "outputs": [
    {
     "ename": "SyntaxError",
     "evalue": "invalid syntax. Perhaps you forgot a comma? (1127623480.py, line 1)",
     "output_type": "error",
     "traceback": [
      "\u001b[0;36m  Input \u001b[0;32mIn [29]\u001b[0;36m\u001b[0m\n\u001b[0;31m    4 2\u001b[0m\n\u001b[0m    ^\u001b[0m\n\u001b[0;31mSyntaxError\u001b[0m\u001b[0;31m:\u001b[0m invalid syntax. Perhaps you forgot a comma?\n"
     ]
    }
   ],
   "source": [
    "4 2\n"
   ]
  },
  {
   "cell_type": "code",
   "execution_count": null,
   "id": "87dce002",
   "metadata": {},
   "outputs": [],
   "source": []
  }
 ],
 "metadata": {
  "kernelspec": {
   "display_name": "Python 3 (ipykernel)",
   "language": "python",
   "name": "python3"
  },
  "language_info": {
   "codemirror_mode": {
    "name": "ipython",
    "version": 3
   },
   "file_extension": ".py",
   "mimetype": "text/x-python",
   "name": "python",
   "nbconvert_exporter": "python",
   "pygments_lexer": "ipython3",
   "version": "3.10.0"
  }
 },
 "nbformat": 4,
 "nbformat_minor": 5
}
