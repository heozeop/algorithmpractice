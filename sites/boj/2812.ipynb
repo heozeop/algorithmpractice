{
 "cells": [
  {
   "cell_type": "code",
   "execution_count": 34,
   "id": "a9aea0b4",
   "metadata": {},
   "outputs": [
    {
     "name": "stdout",
     "output_type": "stream",
     "text": [
      "4 2\n",
      "1924\n",
      "94\n"
     ]
    }
   ],
   "source": [
    "from heapq import heappush, heappop\n",
    "\n",
    "n, k = map(int, input().split())\n",
    "\n",
    "data = list(input())\n",
    "\n",
    "kk = k\n",
    "numList = []\n",
    "for i in range(n):\n",
    "    while(kk > 0 and numList and numList[-1] < data[i]): \n",
    "        numList.pop()\n",
    "        kk -= 1\n",
    "    numList.append(data[i])\n",
    "        \n",
    "print(\"\".join(numList[:n - k]))"
   ]
  },
  {
   "cell_type": "code",
   "execution_count": 29,
   "id": "0b6f0fb9",
   "metadata": {},
   "outputs": [
    {
     "ename": "SyntaxError",
     "evalue": "invalid syntax. Perhaps you forgot a comma? (1127623480.py, line 1)",
     "output_type": "error",
     "traceback": [
      "\u001b[0;36m  Input \u001b[0;32mIn [29]\u001b[0;36m\u001b[0m\n\u001b[0;31m    4 2\u001b[0m\n\u001b[0m    ^\u001b[0m\n\u001b[0;31mSyntaxError\u001b[0m\u001b[0;31m:\u001b[0m invalid syntax. Perhaps you forgot a comma?\n"
     ]
    }
   ],
   "source": [
    "4 2\n"
   ]
  },
  {
   "cell_type": "code",
   "execution_count": null,
   "id": "6ccf15f2",
   "metadata": {},
   "outputs": [],
   "source": []
  }
 ],
 "metadata": {
  "kernelspec": {
   "display_name": "Python 3 (ipykernel)",
   "language": "python",
   "name": "python3"
  },
  "language_info": {
   "codemirror_mode": {
    "name": "ipython",
    "version": 3
   },
   "file_extension": ".py",
   "mimetype": "text/x-python",
   "name": "python",
   "nbconvert_exporter": "python",
   "pygments_lexer": "ipython3",
   "version": "3.10.0"
  }
 },
 "nbformat": 4,
 "nbformat_minor": 5
}
