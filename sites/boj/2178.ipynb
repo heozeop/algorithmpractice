{
 "cells": [
  {
   "cell_type": "code",
   "execution_count": 12,
   "id": "e966a663",
   "metadata": {},
   "outputs": [
    {
     "name": "stdout",
     "output_type": "stream",
     "text": [
      "7 7\n",
      "1011111\n",
      "1110001\n",
      "1000001\n",
      "1000001\n",
      "1000001\n",
      "1000001\n",
      "1111111\n"
     ]
    }
   ],
   "source": [
    "n,m = list(map(int, input().split()))\n",
    "\n",
    "maze_list = []\n",
    "for i in range(n):\n",
    "    maze_list.append(list(input()))"
   ]
  },
  {
   "cell_type": "code",
   "execution_count": 13,
   "id": "7f3a14df",
   "metadata": {},
   "outputs": [
    {
     "name": "stdout",
     "output_type": "stream",
     "text": [
      "13\n"
     ]
    }
   ],
   "source": [
    "from collections import deque\n",
    "\n",
    "directions = [\n",
    "    [0,1],\n",
    "    [0,-1],\n",
    "    [1,0],\n",
    "    [-1,0],\n",
    "]\n",
    "\n",
    "VISITED = -1\n",
    "TARGET = '1'\n",
    "\n",
    "queue = deque()\n",
    "queue.append([0,0,1])\n",
    "maze_list[0][0] = VISITED\n",
    "\n",
    "while(len(queue) > 0):\n",
    "    x, y, count = queue.popleft()\n",
    "    \n",
    "    if x == n - 1 and y == m - 1:\n",
    "        print(count)\n",
    "        break\n",
    "    \n",
    "    for i in range(4):\n",
    "        nx = x + directions[i][0]\n",
    "        ny = y + directions[i][1]\n",
    "        \n",
    "        if nx < 0 or ny < 0 or nx >= n or ny >= m:\n",
    "            continue\n",
    "        if maze_list[nx][ny] != TARGET:\n",
    "            continue\n",
    "        maze_list[nx][ny] = VISITED\n",
    "        queue.append([nx, ny, count + 1])    "
   ]
  },
  {
   "cell_type": "code",
   "execution_count": null,
   "id": "3ac0eae6",
   "metadata": {},
   "outputs": [],
   "source": []
  }
 ],
 "metadata": {
  "kernelspec": {
   "display_name": "Python 3 (ipykernel)",
   "language": "python",
   "name": "python3"
  },
  "language_info": {
   "codemirror_mode": {
    "name": "ipython",
    "version": 3
   },
   "file_extension": ".py",
   "mimetype": "text/x-python",
   "name": "python",
   "nbconvert_exporter": "python",
   "pygments_lexer": "ipython3",
   "version": "3.10.0"
  }
 },
 "nbformat": 4,
 "nbformat_minor": 5
}
