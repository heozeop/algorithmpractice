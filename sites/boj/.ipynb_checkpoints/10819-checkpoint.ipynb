{
 "cells": [
  {
   "cell_type": "code",
   "execution_count": 9,
   "id": "da96c3eb-13ed-48cd-aee4-b4b6605e43ed",
   "metadata": {},
   "outputs": [
    {
     "name": "stdin",
     "output_type": "stream",
     "text": [
      " 6\n",
      " 20 1 15 8 4 10\n"
     ]
    },
    {
     "name": "stdout",
     "output_type": "stream",
     "text": [
      "62\n"
     ]
    }
   ],
   "source": [
    "n = int(input())\n",
    "arr = list(map(int, input().split()))\n",
    "\n",
    "maxVal = 0\n",
    "visited = [False] * n\n",
    "def backtracking(index, prevVal, curVal):\n",
    "    global maxVal\n",
    "    if index == n:\n",
    "        if maxVal < curVal:\n",
    "            maxVal = curVal\n",
    "        return\n",
    "\n",
    "    for i, val in enumerate(arr):\n",
    "        if visited[i]:\n",
    "            continue\n",
    "        visited[i] = True\n",
    "        nextVal = curVal\n",
    "        \n",
    "        if index != 0:\n",
    "            nextVal += abs(prevVal - val)\n",
    "        \n",
    "        backtracking(index + 1, val, nextVal)\n",
    "        visited[i] = False\n",
    "\n",
    "backtracking(0, 0, 0)\n",
    "print(maxVal)\n"
   ]
  },
  {
   "cell_type": "code",
   "execution_count": null,
   "id": "9949b3f7-fa97-42c5-ae99-db9f36dea95f",
   "metadata": {},
   "outputs": [],
   "source": []
  }
 ],
 "metadata": {
  "kernelspec": {
   "display_name": "Python 3 (ipykernel)",
   "language": "python",
   "name": "python3"
  },
  "language_info": {
   "codemirror_mode": {
    "name": "ipython",
    "version": 3
   },
   "file_extension": ".py",
   "mimetype": "text/x-python",
   "name": "python",
   "nbconvert_exporter": "python",
   "pygments_lexer": "ipython3",
   "version": "3.11.5"
  }
 },
 "nbformat": 4,
 "nbformat_minor": 5
}
