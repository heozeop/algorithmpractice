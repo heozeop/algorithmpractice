{
 "cells": [
  {
   "cell_type": "code",
   "execution_count": null,
   "id": "7c1af94e",
   "metadata": {},
   "outputs": [],
   "source": [
    "from collections import deque\n",
    "import sys\n",
    "sys.setrecursionlimit(100000)\n",
    "n = int(input())\n",
    "country_map = []\n",
    "\n",
    "for _ in range(n):\n",
    "    country_map.append(\n",
    "        list(map(int, input().split()))\n",
    "    )"
   ]
  },
  {
   "cell_type": "code",
   "execution_count": 58,
   "id": "3a78db45",
   "metadata": {},
   "outputs": [
    {
     "name": "stdout",
     "output_type": "stream",
     "text": [
      "[[1, 0, 0, 0], [0, 0, 0, 0], [0, 0, 0, 1], [0, 0, 0, 1]]\n"
     ]
    }
   ],
   "source": [
    "n = 4\n",
    "country_map = list(map(lambda a: list(map(int, a.split())), \"\"\"1 0 0 0\n",
    "0 0 0 0\n",
    "0 0 0 1\n",
    "0 0 0 1\"\"\".split('\\n')))\n",
    "print(country_map)\n",
    "\n"
   ]
  },
  {
   "cell_type": "code",
   "execution_count": 59,
   "id": "3abe6665",
   "metadata": {},
   "outputs": [
    {
     "name": "stdout",
     "output_type": "stream",
     "text": [
      "[2, 0, 0, 0]\n",
      "[0, 0, 0, 0]\n",
      "[0, 0, 0, 3]\n",
      "[0, 0, 0, 3]\n"
     ]
    }
   ],
   "source": [
    "\n",
    "visit = [[0] * n for _ in range(n)]\n",
    "distance = [[0] * n for _ in range(n)]\n",
    "directions = [[0,1],[0,-1],[1,0],[-1,0]]\n",
    "queue = deque()\n",
    "\n",
    "def dfs(x,y,mark):\n",
    "    global n\n",
    "    \n",
    "    for i in range(4):\n",
    "        nx = x + directions[i][0]\n",
    "        ny = y + directions[i][1]\n",
    "        \n",
    "        if nx < 0 or ny < 0 or nx >= n or ny >= n:\n",
    "            continue\n",
    "        if country_map[nx][ny] != 1:\n",
    "            continue\n",
    "        if visit[nx][ny] != 0:\n",
    "            continue\n",
    "            \n",
    "        country_map[nx][ny] = mark\n",
    "        dfs(nx,ny,mark)\n",
    "        \n",
    "\n",
    "mark = 2\n",
    "for i in range(n):\n",
    "    for j in range(n):\n",
    "        if country_map[i][j] == 1:\n",
    "            country_map[i][j] = mark\n",
    "            dfs(i,j,mark)\n",
    "            mark += 1\n",
    "            \n",
    "for a in country_map:\n",
    "    print(a)"
   ]
  },
  {
   "cell_type": "code",
   "execution_count": 60,
   "id": "d53dba40",
   "metadata": {},
   "outputs": [],
   "source": [
    "\n",
    "for i in range(n):\n",
    "    for j in range(n):\n",
    "        if country_map[i][j] != 0:\n",
    "            visit[i][j] = country_map[i][j]\n",
    "        else:\n",
    "            for k in range(4):\n",
    "                x = i + directions[k][0]\n",
    "                y = j + directions[k][1]\n",
    "                \n",
    "                if x < 0 or y < 0 or x >= n or y >= n:\n",
    "                    continue\n",
    "                    \n",
    "                if country_map[x][y] != 0:\n",
    "                    visit[i][j] = country_map[x][y]\n",
    "                    distance[i][j] = 1\n",
    "                    queue.append([i,j])\n",
    "                    break"
   ]
  },
  {
   "cell_type": "code",
   "execution_count": 61,
   "id": "bcfe2733",
   "metadata": {},
   "outputs": [
    {
     "name": "stdout",
     "output_type": "stream",
     "text": [
      "[2, 2, 0, 0]\n",
      "[2, 0, 0, 3]\n",
      "[0, 0, 3, 3]\n",
      "[0, 0, 3, 3]\n",
      "deque([[0, 1], [1, 0], [1, 3], [2, 2], [3, 2]])\n"
     ]
    }
   ],
   "source": [
    "for a in visit:\n",
    "    print(a)\n",
    "\n",
    "print(queue)"
   ]
  },
  {
   "cell_type": "code",
   "execution_count": 62,
   "id": "f3ea79b8",
   "metadata": {},
   "outputs": [
    {
     "name": "stdout",
     "output_type": "stream",
     "text": [
      "4\n"
     ]
    }
   ],
   "source": [
    "\n",
    "INF = 1e9\n",
    "min_val = INF\n",
    "while len(queue) > 0:\n",
    "    x,y = queue.popleft()\n",
    "    for i in range(4):\n",
    "        nx = x + directions[i][0]\n",
    "        ny = y + directions[i][1]\n",
    "        \n",
    "        if nx < 0 or ny < 0 or nx >= n or ny >= n:\n",
    "            continue\n",
    "        if visit[nx][ny] == visit[x][y]:\n",
    "            continue\n",
    "            \n",
    "        if visit[nx][ny] == 0:\n",
    "            queue.append([nx,ny])\n",
    "            visit[nx][ny] = visit[x][y]\n",
    "            distance[nx][ny] = distance[x][y] + 1\n",
    "            continue\n",
    "            \n",
    "        if visit[nx][ny] != visit[x][y]:\n",
    "            min_val = min(min_val, distance[nx][ny] + distance[x][y])\n",
    "print(min_val)\n",
    "            "
   ]
  },
  {
   "cell_type": "code",
   "execution_count": null,
   "id": "e1fbd13a",
   "metadata": {},
   "outputs": [],
   "source": []
  },
  {
   "cell_type": "code",
   "execution_count": null,
   "id": "ac4acbd6",
   "metadata": {},
   "outputs": [],
   "source": []
  }
 ],
 "metadata": {
  "kernelspec": {
   "display_name": "Python 3 (ipykernel)",
   "language": "python",
   "name": "python3"
  },
  "language_info": {
   "codemirror_mode": {
    "name": "ipython",
    "version": 3
   },
   "file_extension": ".py",
   "mimetype": "text/x-python",
   "name": "python",
   "nbconvert_exporter": "python",
   "pygments_lexer": "ipython3",
   "version": "3.10.0"
  }
 },
 "nbformat": 4,
 "nbformat_minor": 5
}
