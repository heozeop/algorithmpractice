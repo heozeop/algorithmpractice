{
 "cells": [
  {
   "cell_type": "code",
   "execution_count": 3,
   "id": "5b726e7a",
   "metadata": {},
   "outputs": [
    {
     "name": "stdout",
     "output_type": "stream",
     "text": [
      "5 3\n",
      "0 0 1 0 0\n",
      "0 0 2 0 1\n",
      "0 1 2 0 0\n",
      "0 0 1 0 0\n",
      "0 0 0 0 2\n",
      "123456789\n"
     ]
    }
   ],
   "source": [
    "n, m = list(map(int, input().split()))\n",
    "\n",
    "city = []\n",
    "for _ in range(n):\n",
    "    city.append(list(map(int, input().split())))\n"
   ]
  },
  {
   "cell_type": "code",
   "execution_count": 27,
   "id": "30c7b578",
   "metadata": {},
   "outputs": [],
   "source": [
    "n, m = list(map(int,\"5 1\".split()))\n",
    "city = list(map(lambda a : list(map(int, a.split())), \"\"\"1 2 0 2 1\n",
    "1 2 0 2 1\n",
    "1 2 0 2 1\n",
    "1 2 0 2 1\n",
    "1 2 0 2 1\n",
    "\"\"\".split('\\n')))"
   ]
  },
  {
   "cell_type": "code",
   "execution_count": 28,
   "id": "cc76fd87",
   "metadata": {},
   "outputs": [
    {
     "name": "stdout",
     "output_type": "stream",
     "text": [
      "[[1, 2, 0, 2, 1], [1, 2, 0, 2, 1], [1, 2, 0, 2, 1], [1, 2, 0, 2, 1], [1, 2, 0, 2, 1], []]\n"
     ]
    }
   ],
   "source": [
    "print(city)"
   ]
  },
  {
   "cell_type": "code",
   "execution_count": 30,
   "id": "bb36d749",
   "metadata": {},
   "outputs": [
    {
     "name": "stdout",
     "output_type": "stream",
     "text": [
      "32\n"
     ]
    }
   ],
   "source": [
    "\n",
    "houseList = []\n",
    "chickenList = []\n",
    "\n",
    "for i in range(n):\n",
    "    for j in range(n):\n",
    "        if city[i][j] == 1:\n",
    "            houseList.append([i,j])\n",
    "        if city[i][j] == 2:\n",
    "            chickenList.append([i,j])\n",
    "\n",
    "houseChicken = [[0] * len(chickenList) for _ in range(len(houseList))]\n",
    "for i in range(len(houseList)):\n",
    "    for j in range(len(chickenList)):\n",
    "        houseChicken[i][j] = abs(houseList[i][0] - chickenList[j][0]) + abs(houseList[i][1] - chickenList[j][1])\n",
    "\n",
    "chickenDistance = 123456789\n",
    "def bfs(index, choosen):\n",
    "    global chickenDistance\n",
    "    if index > len(chickenList):\n",
    "        return\n",
    "    \n",
    "    if len(choosen) == m:\n",
    "        minVal = 0\n",
    "        for i in range(len(houseList)):\n",
    "            localMin = 123456789\n",
    "            for j in choosen:\n",
    "                localMin = min(houseChicken[i][j], localMin)\n",
    "            minVal += localMin\n",
    "        chickenDistance = min(minVal, chickenDistance)\n",
    "        return\n",
    "    \n",
    "    \n",
    "    bfs(index + 1, choosen)\n",
    "    choosen.append(index)\n",
    "    bfs(index + 1, choosen)\n",
    "    choosen.pop()\n",
    "    \n",
    "bfs(0, [])\n",
    "print(chickenDistance)"
   ]
  },
  {
   "cell_type": "code",
   "execution_count": null,
   "id": "a89571bd",
   "metadata": {},
   "outputs": [],
   "source": []
  }
 ],
 "metadata": {
  "kernelspec": {
   "display_name": "Python 3 (ipykernel)",
   "language": "python",
   "name": "python3"
  },
  "language_info": {
   "codemirror_mode": {
    "name": "ipython",
    "version": 3
   },
   "file_extension": ".py",
   "mimetype": "text/x-python",
   "name": "python",
   "nbconvert_exporter": "python",
   "pygments_lexer": "ipython3",
   "version": "3.10.0"
  }
 },
 "nbformat": 4,
 "nbformat_minor": 5
}
