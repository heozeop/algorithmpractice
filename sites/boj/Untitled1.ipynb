{
 "cells": [
  {
   "cell_type": "code",
   "execution_count": 3,
   "id": "d6950c2c",
   "metadata": {},
   "outputs": [
    {
     "name": "stdout",
     "output_type": "stream",
     "text": [
      "3\n",
      "124\n",
      "4 2 0 4 25\n",
      "1 0 0 0 194\n",
      "7 1 1 4 "
     ]
    }
   ],
   "source": [
    "\n",
    "coins = [25,10,5,1]\n",
    "\n",
    "n = int(input())\n",
    "for _ in range(n):\n",
    "    t = int(input())\n",
    "    for coin in coins:\n",
    "        if t < coin:\n",
    "            print(0, end=\" \")\n",
    "            continue\n",
    "        \n",
    "        print(t // coin, end=\" \")\n",
    "        t -= (t // coin) * coin\n",
    "        "
   ]
  },
  {
   "cell_type": "code",
   "execution_count": null,
   "id": "c09ed281",
   "metadata": {},
   "outputs": [],
   "source": []
  }
 ],
 "metadata": {
  "kernelspec": {
   "display_name": "Python 3 (ipykernel)",
   "language": "python",
   "name": "python3"
  },
  "language_info": {
   "codemirror_mode": {
    "name": "ipython",
    "version": 3
   },
   "file_extension": ".py",
   "mimetype": "text/x-python",
   "name": "python",
   "nbconvert_exporter": "python",
   "pygments_lexer": "ipython3",
   "version": "3.10.0"
  }
 },
 "nbformat": 4,
 "nbformat_minor": 5
}
