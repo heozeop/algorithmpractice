{
 "cells": [
  {
   "cell_type": "code",
   "execution_count": 16,
   "id": "5e43271f",
   "metadata": {},
   "outputs": [
    {
     "name": "stdout",
     "output_type": "stream",
     "text": [
      "6 3\n",
      "-32768\n",
      "-32768\n",
      "-32768\n",
      "-32768\n",
      "-32768\n",
      "-32768\n",
      "-98304\n"
     ]
    }
   ],
   "source": [
    "n,m = list(map(int, input().split()))\n",
    "\n",
    "arr = [0]\n",
    "segment_sum = [0]\n",
    "for i in range(n):\n",
    "    arr.append(int(input()))\n",
    "    segment_sum.append(arr[i + 1] + segment_sum[i])\n",
    "    \n",
    "INF = -1e9\n",
    "dp = [[[INF] * (n + 1) for _ in range(n + 1)] for _ in range(51)]\n",
    "\n",
    "for i in range(1, n + 1):\n",
    "    dp[1][i][i] = arr[i]\n",
    "\n",
    "for start in range(1, n+1):\n",
    "    for end in range(start + 1, n + 1):\n",
    "        dp[1][start][end] = int(max(\n",
    "            dp[1][start][end - 1], \n",
    "            dp[1][start + 1][end], \n",
    "            segment_sum[end] - segment_sum[start - 1]))\n",
    "\n",
    "def dfs(start, end, count):\n",
    "    if dp[count][start][end] != INF:\n",
    "        return dp[count][start][end]\n",
    "    \n",
    "    min_length = (count - 1) * 2\n",
    "    if (count - 1) % 2 == 1:\n",
    "        min_length - 1\n",
    "    \n",
    "    for i in range(start, end - min_length + 2):\n",
    "        dp[count][start][end] = max(dp[count][start][end], dp[1][start][i] + dfs(i + 2, end, count - 1))\n",
    "        \n",
    "    \n",
    "    return dp[count][start][end]\n",
    "\n",
    "print(dfs(1, n, m))"
   ]
  },
  {
   "cell_type": "code",
   "execution_count": null,
   "id": "5c2e5c57",
   "metadata": {},
   "outputs": [],
   "source": []
  },
  {
   "cell_type": "code",
   "execution_count": null,
   "id": "9b04afdb",
   "metadata": {},
   "outputs": [],
   "source": []
  }
 ],
 "metadata": {
  "kernelspec": {
   "display_name": "Python 3 (ipykernel)",
   "language": "python",
   "name": "python3"
  },
  "language_info": {
   "codemirror_mode": {
    "name": "ipython",
    "version": 3
   },
   "file_extension": ".py",
   "mimetype": "text/x-python",
   "name": "python",
   "nbconvert_exporter": "python",
   "pygments_lexer": "ipython3",
   "version": "3.10.0"
  }
 },
 "nbformat": 4,
 "nbformat_minor": 5
}
