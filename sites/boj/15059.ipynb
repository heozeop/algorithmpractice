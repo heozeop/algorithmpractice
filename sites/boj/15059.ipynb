{
 "cells": [
  {
   "cell_type": "code",
   "execution_count": 7,
   "id": "2e1b9f60",
   "metadata": {},
   "outputs": [
    {
     "name": "stdout",
     "output_type": "stream",
     "text": [
      "41 42 43\n",
      "41 42 43\n"
     ]
    },
    {
     "data": {
      "text/plain": [
       "0"
      ]
     },
     "execution_count": 7,
     "metadata": {},
     "output_type": "execute_result"
    }
   ],
   "source": [
    "from functools import reduce\n",
    "\n",
    "chicken, beef, pasta = list(map(int, input().split()))\n",
    "p1,p2,p3 = list(map(int, input().split()))\n",
    "\n",
    "-1 * reduce(lambda a,b: a + b, filter(lambda a:a < 0, [chicken - p1, beef - p2, pasta - p3]), 0)"
   ]
  },
  {
   "cell_type": "code",
   "execution_count": null,
   "id": "d099e2cd",
   "metadata": {},
   "outputs": [],
   "source": [
    "80 20 40\n"
   ]
  }
 ],
 "metadata": {
  "kernelspec": {
   "display_name": "Python 3 (ipykernel)",
   "language": "python",
   "name": "python3"
  },
  "language_info": {
   "codemirror_mode": {
    "name": "ipython",
    "version": 3
   },
   "file_extension": ".py",
   "mimetype": "text/x-python",
   "name": "python",
   "nbconvert_exporter": "python",
   "pygments_lexer": "ipython3",
   "version": "3.10.0"
  }
 },
 "nbformat": 4,
 "nbformat_minor": 5
}
