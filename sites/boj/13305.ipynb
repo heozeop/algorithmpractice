{
 "cells": [
  {
   "cell_type": "code",
   "execution_count": 20,
   "id": "2ca429e3",
   "metadata": {},
   "outputs": [
    {
     "name": "stdout",
     "output_type": "stream",
     "text": [
      "4\n",
      "3 3 4\n",
      "1 1 1 1\n",
      "[[1, 0], [1, 1], [1, 2], [1, 3]]\n",
      "0\n"
     ]
    }
   ],
   "source": [
    "\n",
    "n = int(input())\n",
    "distanceList = list(map(int, input().split()))\n",
    "costList = list(map(int, input().split()))\n",
    "\n",
    "arr = []\n",
    "for i, cost in enumerate(costList):\n",
    "    arr.append([cost, i])\n",
    "\n",
    "arr.sort()\n",
    "print(arr)\n",
    "sumVal = 0\n",
    "prevIdx = n \n",
    "while len(arr) > 0:\n",
    "    front = arr[0]\n",
    "    arr.pop(0)\n",
    "    if prevIdx < front[1]:\n",
    "        continue\n",
    "        \n",
    "    distance = 0\n",
    "    for i in range(front[1], prevIdx):\n",
    "        distance += distanceList[i]\n",
    "    print(distance)\n",
    "    sumVal += distance * front[0]\n",
    "        \n",
    "    prevIdx = front[1]\n",
    "\n",
    "print(sumVal)\n",
    "\n",
    "\n",
    "\n",
    "\n"
   ]
  },
  {
   "cell_type": "code",
   "execution_count": null,
   "id": "2ba64c84",
   "metadata": {},
   "outputs": [],
   "source": []
  },
  {
   "cell_type": "code",
   "execution_count": null,
   "id": "d1003a20",
   "metadata": {},
   "outputs": [],
   "source": []
  }
 ],
 "metadata": {
  "kernelspec": {
   "display_name": "Python 3 (ipykernel)",
   "language": "python",
   "name": "python3"
  },
  "language_info": {
   "codemirror_mode": {
    "name": "ipython",
    "version": 3
   },
   "file_extension": ".py",
   "mimetype": "text/x-python",
   "name": "python",
   "nbconvert_exporter": "python",
   "pygments_lexer": "ipython3",
   "version": "3.10.0"
  }
 },
 "nbformat": 4,
 "nbformat_minor": 5
}
