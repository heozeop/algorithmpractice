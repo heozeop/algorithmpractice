{
 "cells": [
  {
   "cell_type": "code",
   "execution_count": 15,
   "id": "6c85098d",
   "metadata": {},
   "outputs": [
    {
     "name": "stdout",
     "output_type": "stream",
     "text": [
      "6\n",
      "10 20 10 30 20 50\n",
      "4\n",
      "[0, 1, 0, 2, 1, 3, 0] 3\n",
      "10 20 30 50\n"
     ]
    }
   ],
   "source": [
    "from bisect import bisect_left\n",
    "\n",
    "n = int(input())\n",
    "arr = list(map(int, input().split()))\n",
    "idx_list = [0] * (n + 1)\n",
    "\n",
    "longest_array = [arr[0]]\n",
    "\n",
    "for i, val in enumerate(arr):\n",
    "    if longest_array[-1] < val:\n",
    "        longest_array.append(val)\n",
    "        idx_list[i] = len(longest_array) - 1\n",
    "    else:\n",
    "        idx = bisect_left(longest_array, val)\n",
    "        longest_array[idx] = val\n",
    "        idx_list[i] = idx\n",
    "\n",
    "print(len(longest_array))\n",
    "\n",
    "\n",
    "ans = []\n",
    "index = len(longest_array) - 1\n",
    "for i in range(len(arr) - 1,-1,-1):\n",
    "    if idx_list[i] == index:\n",
    "        ans.append(arr[i])\n",
    "        index -= 1\n",
    "\n",
    "print(*ans[::-1])\n",
    "\n"
   ]
  },
  {
   "cell_type": "code",
   "execution_count": null,
   "id": "0d2eb240",
   "metadata": {},
   "outputs": [],
   "source": []
  }
 ],
 "metadata": {
  "kernelspec": {
   "display_name": "Python 3 (ipykernel)",
   "language": "python",
   "name": "python3"
  },
  "language_info": {
   "codemirror_mode": {
    "name": "ipython",
    "version": 3
   },
   "file_extension": ".py",
   "mimetype": "text/x-python",
   "name": "python",
   "nbconvert_exporter": "python",
   "pygments_lexer": "ipython3",
   "version": "3.10.0"
  }
 },
 "nbformat": 4,
 "nbformat_minor": 5
}
