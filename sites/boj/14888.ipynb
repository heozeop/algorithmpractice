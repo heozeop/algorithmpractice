{
 "cells": [
  {
   "cell_type": "code",
   "execution_count": 9,
   "id": "38139cdd",
   "metadata": {},
   "outputs": [
    {
     "name": "stdout",
     "output_type": "stream",
     "text": [
      "6\n",
      "1 2 3 4 5 6\n",
      "2 1 1 1\n",
      "54\n",
      "-24\n"
     ]
    }
   ],
   "source": [
    "n = int(input())\n",
    "nums = list(map(int, input().split()))\n",
    "ops = list(map(int,input().split()))\n",
    "\n",
    "maxVal = -1000000001\n",
    "minVal = 1000000001\n",
    "\n",
    "def calc(calcVal, operation, index):\n",
    "    if operation == 0:\n",
    "        return calcVal + nums[index]\n",
    "    elif operation == 1:\n",
    "        return calcVal - nums[index]\n",
    "    elif operation == 2:\n",
    "        return calcVal * nums[index]\n",
    "    elif operation == 3:\n",
    "        if calcVal < 0:\n",
    "            return -1 * ((-1 * calcVal) // nums[index])\n",
    "        return calcVal // nums[index]\n",
    "\n",
    "def dfs(prevIndex, calcVal):\n",
    "    global maxVal\n",
    "    global minVal\n",
    "    \n",
    "    if prevIndex == n - 1:\n",
    "        maxVal = max(maxVal, calcVal)\n",
    "        minVal = min(minVal, calcVal)\n",
    "        return\n",
    "    \n",
    "    for i in range(4):\n",
    "        if ops[i] == 0:\n",
    "            continue\n",
    "        ops[i] -= 1\n",
    "        dfs(prevIndex + 1, calc(calcVal, i, prevIndex + 1))\n",
    "        ops[i] += 1\n",
    "\n",
    "dfs(0, nums[0])\n",
    "print(maxVal)\n",
    "print(minVal)"
   ]
  },
  {
   "cell_type": "code",
   "execution_count": null,
   "id": "5ae89c51",
   "metadata": {},
   "outputs": [],
   "source": []
  }
 ],
 "metadata": {
  "kernelspec": {
   "display_name": "Python 3 (ipykernel)",
   "language": "python",
   "name": "python3"
  },
  "language_info": {
   "codemirror_mode": {
    "name": "ipython",
    "version": 3
   },
   "file_extension": ".py",
   "mimetype": "text/x-python",
   "name": "python",
   "nbconvert_exporter": "python",
   "pygments_lexer": "ipython3",
   "version": "3.10.0"
  }
 },
 "nbformat": 4,
 "nbformat_minor": 5
}
