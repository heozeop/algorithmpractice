{
 "cells": [
  {
   "cell_type": "code",
   "execution_count": 69,
   "id": "8637be84",
   "metadata": {},
   "outputs": [
    {
     "name": "stdout",
     "output_type": "stream",
     "text": [
      "4\n",
      "S 100 3\n",
      "W 50 1\n",
      "S 10 1\n",
      "60\n"
     ]
    }
   ],
   "source": [
    "import sys\n",
    "\n",
    "sys.setrecursionlimit(10**8)\n",
    "input = sys.stdin.readline\n",
    "\n",
    "n = int(input())\n",
    "visited = [False] * (n + 1)\n",
    "tree = [[] for _ in range(n+1)]\n",
    "node = [[], [0,0]]\n",
    "\n",
    "for i in range(2, n+1):\n",
    "    [t,a,p] = input().split()\n",
    "    tree[int(p)].append(i)\n",
    "    node.append([t,int(a)])\n",
    "\n",
    "def dfs(cur):\n",
    "    amount = 0\n",
    "    for i in tree[cur]:\n",
    "        amount += dfs(i)\n",
    "        \n",
    "    if node[cur][0] == 'W':\n",
    "        amount -= node[cur][1]\n",
    "        amount = max(amount, 0)\n",
    "    else:\n",
    "        amount += node[cur][1]\n",
    "        \n",
    "    return amount\n",
    "\n",
    "print(dfs(1))"
   ]
  },
  {
   "cell_type": "code",
   "execution_count": 64,
   "id": "752e3d6d",
   "metadata": {},
   "outputs": [
    {
     "name": "stdout",
     "output_type": "stream",
     "text": [
      "[[], [], ['S', '100', '1'], ['S', '100', '1'], ['W', '100', '1'], ['S', '1000', '2'], ['W', '1000', '2'], ['S', '900', '6']]\n"
     ]
    }
   ],
   "source": [
    "\n",
    "n = 7\n",
    "visited = [False] * (n + 1)\n",
    "arr = list(map(lambda a: a.split(), \"\"\"S 100 1\n",
    "S 100 1\n",
    "W 100 1\n",
    "S 1000 2\n",
    "W 1000 2\n",
    "S 900 6\"\"\".split('\\n')))\n",
    "\n",
    "arr.insert(0,[])\n",
    "arr.insert(0,[])\n",
    "print(arr)"
   ]
  },
  {
   "cell_type": "code",
   "execution_count": 66,
   "id": "729386e2",
   "metadata": {},
   "outputs": [
    {
     "name": "stdout",
     "output_type": "stream",
     "text": [
      "1200\n"
     ]
    }
   ],
   "source": [
    "\n",
    "\n",
    "def dfs(cur, sheep):\n",
    "    if cur == 1:\n",
    "        return sheep\n",
    "    \n",
    "    if arr[cur][0] == 'S':\n",
    "        sheep += int(arr[cur][1])\n",
    "        arr[cur][1] = 0\n",
    "    else:\n",
    "        sheep -= int(arr[cur][1])\n",
    "        sheep = max(sheep, 0)\n",
    "\n",
    "    return dfs(int(arr[cur][2]), sheep)\n",
    "\n",
    "sheep = 0\n",
    "for i in range(2, n+1):\n",
    "    temp = dfs(i,0)\n",
    "    sheep = sheep + temp\n",
    "\n",
    "print(sheep)"
   ]
  },
  {
   "cell_type": "code",
   "execution_count": null,
   "id": "59856361",
   "metadata": {},
   "outputs": [],
   "source": []
  }
 ],
 "metadata": {
  "kernelspec": {
   "display_name": "Python 3 (ipykernel)",
   "language": "python",
   "name": "python3"
  },
  "language_info": {
   "codemirror_mode": {
    "name": "ipython",
    "version": 3
   },
   "file_extension": ".py",
   "mimetype": "text/x-python",
   "name": "python",
   "nbconvert_exporter": "python",
   "pygments_lexer": "ipython3",
   "version": "3.10.0"
  }
 },
 "nbformat": 4,
 "nbformat_minor": 5
}
