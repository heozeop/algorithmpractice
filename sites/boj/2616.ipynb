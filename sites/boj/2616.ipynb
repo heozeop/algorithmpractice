{
 "cells": [
  {
   "cell_type": "code",
   "execution_count": 29,
   "id": "f18e6b89",
   "metadata": {},
   "outputs": [
    {
     "ename": "IndexError",
     "evalue": "list index out of range",
     "output_type": "error",
     "traceback": [
      "\u001b[0;31m---------------------------------------------------------------------------\u001b[0m",
      "\u001b[0;31mIndexError\u001b[0m                                Traceback (most recent call last)",
      "Input \u001b[0;32mIn [29]\u001b[0m, in \u001b[0;36m<cell line: 20>\u001b[0;34m()\u001b[0m\n\u001b[1;32m     21\u001b[0m \u001b[38;5;28;01mfor\u001b[39;00m j \u001b[38;5;129;01min\u001b[39;00m \u001b[38;5;28mrange\u001b[39m(i \u001b[38;5;241m*\u001b[39m k, n \u001b[38;5;241m+\u001b[39m \u001b[38;5;241m1\u001b[39m):\n\u001b[1;32m     22\u001b[0m     \u001b[38;5;28;01mif\u001b[39;00m i \u001b[38;5;241m==\u001b[39m \u001b[38;5;241m1\u001b[39m:\n\u001b[0;32m---> 23\u001b[0m         dp[i][j] \u001b[38;5;241m=\u001b[39m \u001b[38;5;28mmax\u001b[39m(dp[i][j \u001b[38;5;241m-\u001b[39m \u001b[38;5;241m1\u001b[39m], \u001b[43marr\u001b[49m\u001b[43m[\u001b[49m\u001b[43mj\u001b[49m\u001b[43m]\u001b[49m \u001b[38;5;241m-\u001b[39m arr[j\u001b[38;5;241m-\u001b[39mk])\n\u001b[1;32m     24\u001b[0m     \u001b[38;5;28;01melse\u001b[39;00m:\n\u001b[1;32m     25\u001b[0m         dp[i][j] \u001b[38;5;241m=\u001b[39m \u001b[38;5;28mmax\u001b[39m(dp[i][j\u001b[38;5;241m-\u001b[39m\u001b[38;5;241m1\u001b[39m], dp[i\u001b[38;5;241m-\u001b[39m \u001b[38;5;241m1\u001b[39m][j \u001b[38;5;241m-\u001b[39m k] \u001b[38;5;241m+\u001b[39m arr[j] \u001b[38;5;241m-\u001b[39m arr[j\u001b[38;5;241m-\u001b[39mk])\n",
      "\u001b[0;31mIndexError\u001b[0m: list index out of range"
     ]
    }
   ],
   "source": [
    "from itertools import combinations\n",
    "import sys\n",
    "\n",
    "sys.setrecursionlimit(10 ** 6)\n",
    "input = sys.stdin.readline\n",
    "\n",
    "# n = int(input())\n",
    "# arr = list(map(int, input().split()))\n",
    "# k = int(input())\n",
    "\n",
    "n = 7\n",
    "arr= [35, 40 ,50, 10, 30, 45, 60]\n",
    "k = 2\n",
    "\n",
    "for i in range(1, n):\n",
    "    arr[i] += arr[i - 1]\n",
    "arr.insert(0,0)\n",
    "dp = [[0] * (n + 1) for _ in range(4)]\n",
    "\n",
    "for i in range(1,4):\n",
    "    for j in range(i * k, n + 1):\n",
    "        if i == 1:\n",
    "            dp[i][j] = max(dp[i][j - 1], arr[j] - arr[j-k])\n",
    "        else:\n",
    "            dp[i][j] = max(dp[i][j-1], dp[i- 1][j - k] + arr[j] - arr[j-k])\n",
    "\n",
    "print(maxVal)"
   ]
  },
  {
   "cell_type": "code",
   "execution_count": null,
   "id": "fe014d97",
   "metadata": {},
   "outputs": [],
   "source": []
  },
  {
   "cell_type": "code",
   "execution_count": null,
   "id": "32a03145",
   "metadata": {},
   "outputs": [],
   "source": []
  }
 ],
 "metadata": {
  "kernelspec": {
   "display_name": "Python 3 (ipykernel)",
   "language": "python",
   "name": "python3"
  },
  "language_info": {
   "codemirror_mode": {
    "name": "ipython",
    "version": 3
   },
   "file_extension": ".py",
   "mimetype": "text/x-python",
   "name": "python",
   "nbconvert_exporter": "python",
   "pygments_lexer": "ipython3",
   "version": "3.10.0"
  }
 },
 "nbformat": 4,
 "nbformat_minor": 5
}
