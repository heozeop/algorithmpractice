{
 "cells": [
  {
   "cell_type": "code",
   "execution_count": 2,
   "id": "c0a01b7d",
   "metadata": {},
   "outputs": [
    {
     "name": "stdout",
     "output_type": "stream",
     "text": [
      "6\n",
      "10 20 10 30 20 50\n",
      "4\n"
     ]
    }
   ],
   "source": [
    "from bisect import bisect_left\n",
    "\n",
    "n = int(input())\n",
    "arr= list(map(int, input().split()))\n",
    "\n",
    "longest_arr = [arr[0]]\n",
    "\n",
    "for i in arr:\n",
    "    if longest_arr[-1] < i:\n",
    "        longest_arr.append(i)\n",
    "    elif longest_arr[-1] > i:\n",
    "        longest_arr[bisect_left(longest_arr, i)] = i\n",
    "        \n",
    "print(len(longest_arr))"
   ]
  },
  {
   "cell_type": "code",
   "execution_count": null,
   "id": "c4c2eea2",
   "metadata": {},
   "outputs": [],
   "source": []
  }
 ],
 "metadata": {
  "kernelspec": {
   "display_name": "Python 3 (ipykernel)",
   "language": "python",
   "name": "python3"
  },
  "language_info": {
   "codemirror_mode": {
    "name": "ipython",
    "version": 3
   },
   "file_extension": ".py",
   "mimetype": "text/x-python",
   "name": "python",
   "nbconvert_exporter": "python",
   "pygments_lexer": "ipython3",
   "version": "3.10.0"
  }
 },
 "nbformat": 4,
 "nbformat_minor": 5
}
