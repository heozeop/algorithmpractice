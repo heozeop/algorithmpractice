{
 "cells": [
  {
   "cell_type": "code",
   "execution_count": 5,
   "id": "8fd8f0bc",
   "metadata": {},
   "outputs": [
    {
     "name": "stdout",
     "output_type": "stream",
     "text": [
      "3 10\n",
      "1\n",
      "2\n",
      "5\n",
      "{2: 1, 3: 2, 6: 2, 4: 1, 7: 2, 10: 1}\n",
      "{3: 1, 4: 3, 7: 3, 5: 3, 8: 6, 6: 1, 9: 3}\n",
      "{4: 1, 5: 4, 8: 5, 6: 6, 9: 12, 7: 4, 10: 12}\n",
      "{5: 1, 6: 5, 9: 10, 7: 10, 10: 21, 8: 10}\n",
      "{6: 1, 7: 6, 10: 21, 8: 15, 9: 20}\n",
      "{7: 1, 8: 7, 9: 21, 10: 35}\n",
      "{8: 1, 9: 8, 10: 28}\n",
      "{9: 1, 10: 9}\n",
      "{10: 1}\n",
      "{}\n",
      "0\n"
     ]
    }
   ],
   "source": [
    "from math import ceil\n",
    "n, k = list(map(int, input().split()))\n",
    "\n",
    "arr = []\n",
    "for _ in range(n):\n",
    "    arr.append(int(input()))\n",
    "    \n",
    "arr.sort()\n",
    "\n",
    "e = ceil(k / arr[0])\n",
    "\n",
    "prev_map = {}\n",
    "for i in arr:\n",
    "    prev_map[i] = 1\n",
    "\n",
    "for _ in range(e):\n",
    "    cur_map = {}\n",
    "    \n",
    "    for i in arr:\n",
    "        for value, count in prev_map.items():\n",
    "            next_val = value + i\n",
    "            if next_val > k:\n",
    "                continue\n",
    "            if next_val in cur_map:\n",
    "                cur_map[next_val] += count\n",
    "            else:\n",
    "                cur_map[next_val] = count\n",
    "    prev_map = cur_map\n",
    "    print(prev_map)\n",
    "    \n",
    "if k in prev_map:\n",
    "    print(prev_map[k])\n",
    "else:\n",
    "    print(0)\n",
    "            "
   ]
  },
  {
   "cell_type": "code",
   "execution_count": null,
   "id": "dc69fbfc",
   "metadata": {},
   "outputs": [],
   "source": []
  }
 ],
 "metadata": {
  "kernelspec": {
   "display_name": "Python 3 (ipykernel)",
   "language": "python",
   "name": "python3"
  },
  "language_info": {
   "codemirror_mode": {
    "name": "ipython",
    "version": 3
   },
   "file_extension": ".py",
   "mimetype": "text/x-python",
   "name": "python",
   "nbconvert_exporter": "python",
   "pygments_lexer": "ipython3",
   "version": "3.10.0"
  }
 },
 "nbformat": 4,
 "nbformat_minor": 5
}
