{
 "cells": [
  {
   "cell_type": "code",
   "execution_count": 1,
   "id": "c437dea3",
   "metadata": {},
   "outputs": [
    {
     "name": "stdout",
     "output_type": "stream",
     "text": [
      "2\n"
     ]
    },
    {
     "ename": "IndexError",
     "evalue": "list index out of range",
     "output_type": "error",
     "traceback": [
      "\u001b[0;31m---------------------------------------------------------------------------\u001b[0m",
      "\u001b[0;31mIndexError\u001b[0m                                Traceback (most recent call last)",
      "Input \u001b[0;32mIn [1]\u001b[0m, in \u001b[0;36m<cell line: 14>\u001b[0;34m()\u001b[0m\n\u001b[1;32m     13\u001b[0m cur \u001b[38;5;241m=\u001b[39m \u001b[38;5;241m0\u001b[39m\n\u001b[1;32m     14\u001b[0m \u001b[38;5;28;01mfor\u001b[39;00m i \u001b[38;5;129;01min\u001b[39;00m \u001b[38;5;28mrange\u001b[39m(n \u001b[38;5;241m-\u001b[39m \u001b[38;5;241m1\u001b[39m, \u001b[38;5;241m-\u001b[39m\u001b[38;5;241m1\u001b[39m, \u001b[38;5;241m-\u001b[39m\u001b[38;5;241m1\u001b[39m):\n\u001b[0;32m---> 15\u001b[0m     \u001b[38;5;28;01mif\u001b[39;00m \u001b[43mdoughList\u001b[49m\u001b[43m[\u001b[49m\u001b[43mcur\u001b[49m\u001b[43m]\u001b[49m \u001b[38;5;241m>\u001b[39m ovenList[i]:\n\u001b[1;32m     16\u001b[0m         \u001b[38;5;28;01mcontinue\u001b[39;00m\n\u001b[1;32m     18\u001b[0m     cur \u001b[38;5;241m+\u001b[39m\u001b[38;5;241m=\u001b[39m \u001b[38;5;241m1\u001b[39m\n",
      "\u001b[0;31mIndexError\u001b[0m: list index out of range"
     ]
    }
   ],
   "source": [
    "n, m = list(map(int, input().split()))\n",
    "ovenList = list(map(int, input().split()))\n",
    "doughList = list(map(int,input().split()))\n",
    "# n = 7\n",
    "# m = 3\n",
    "# ovenList = [5, 6 ,4 ,3, 6, 2, 3]\n",
    "# doughList = [3,2,5]\n",
    "\n",
    "for i in range(n - 1):\n",
    "    if ovenList[i] < ovenList[i+1]:\n",
    "        ovenList[i + 1] = ovenList[i]\n",
    "\n",
    "cur = 0\n",
    "for i in range(n - 1, -1, -1):\n",
    "    if doughList[cur] > ovenList[i]:\n",
    "        continue\n",
    "    \n",
    "    cur += 1\n",
    "    if cur >= m:\n",
    "        print(i+1)\n",
    "        exit(0)\n",
    "print(0)"
   ]
  },
  {
   "cell_type": "code",
   "execution_count": null,
   "id": "2f46f3d1",
   "metadata": {},
   "outputs": [],
   "source": []
  }
 ],
 "metadata": {
  "kernelspec": {
   "display_name": "Python 3 (ipykernel)",
   "language": "python",
   "name": "python3"
  },
  "language_info": {
   "codemirror_mode": {
    "name": "ipython",
    "version": 3
   },
   "file_extension": ".py",
   "mimetype": "text/x-python",
   "name": "python",
   "nbconvert_exporter": "python",
   "pygments_lexer": "ipython3",
   "version": "3.10.0"
  }
 },
 "nbformat": 4,
 "nbformat_minor": 5
}
