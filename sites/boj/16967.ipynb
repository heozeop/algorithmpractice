{
 "cells": [
  {
   "cell_type": "code",
   "execution_count": 1,
   "id": "252495d4",
   "metadata": {
    "scrolled": true
   },
   "outputs": [],
   "source": [
    "h,w,x,y = list(map(int, input().split()))\n",
    "\n",
    "arr = []\n",
    "for _ in range(h+x):\n",
    "    arr.append(list(map(int, input().split())))\n",
    "    "
   ]
  },
  {
   "cell_type": "code",
   "execution_count": null,
   "id": "03c63525",
   "metadata": {},
   "outputs": [],
   "source": [
    "def printA():\n",
    "    for i in range(h):\n",
    "        for j in range(w):\n",
    "            print(arr[i][j], end=\" \")\n",
    "        print('')\n",
    "        \n",
    "def createA():\n",
    "    for i in range(h - x):\n",
    "        for j in range(w - y):\n",
    "            arr[i + x][j + y] -= arr[i][j]"
   ]
  },
  {
   "cell_type": "code",
   "execution_count": 2,
   "id": "34499315",
   "metadata": {},
   "outputs": [
    {
     "ename": "NameError",
     "evalue": "name 'initializeA' is not defined",
     "output_type": "error",
     "traceback": [
      "\u001b[0;31m---------------------------------------------------------------------------\u001b[0m",
      "\u001b[0;31mNameError\u001b[0m                                 Traceback (most recent call last)",
      "Input \u001b[0;32mIn [2]\u001b[0m, in \u001b[0;36m<cell line: 1>\u001b[0;34m()\u001b[0m\n\u001b[0;32m----> 1\u001b[0m \u001b[43minitializeA\u001b[49m()\n",
      "\u001b[0;31mNameError\u001b[0m: name 'initializeA' is not defined"
     ]
    }
   ],
   "source": [
    "createA()\n",
    "printA()"
   ]
  },
  {
   "cell_type": "code",
   "execution_count": 41,
   "id": "5b087613",
   "metadata": {},
   "outputs": [
    {
     "name": "stdout",
     "output_type": "stream",
     "text": [
      "1 2 3 0\n",
      "4 5 6 0\n",
      "7 9 11 3\n",
      "0 4 5 6\n",
      "0 7 8 9\n"
     ]
    }
   ],
   "source": []
  },
  {
   "cell_type": "code",
   "execution_count": 42,
   "id": "402d51d0",
   "metadata": {},
   "outputs": [],
   "source": []
  },
  {
   "cell_type": "code",
   "execution_count": 43,
   "id": "0c4b1d6d",
   "metadata": {},
   "outputs": [],
   "source": []
  },
  {
   "cell_type": "code",
   "execution_count": 44,
   "id": "8d8e31fe",
   "metadata": {},
   "outputs": [
    {
     "data": {
      "text/plain": [
       "[[1, 2, 3], [4, 5, 6], [7, 8, 9]]"
      ]
     },
     "execution_count": 44,
     "metadata": {},
     "output_type": "execute_result"
    }
   ],
   "source": [
    "a"
   ]
  },
  {
   "cell_type": "code",
   "execution_count": 45,
   "id": "9c67ac7d",
   "metadata": {},
   "outputs": [],
   "source": []
  },
  {
   "cell_type": "code",
   "execution_count": 46,
   "id": "915dcc83",
   "metadata": {},
   "outputs": [
    {
     "name": "stdout",
     "output_type": "stream",
     "text": [
      "1 2 3 \n",
      "4 5 6 \n",
      "7 8 9 \n"
     ]
    }
   ],
   "source": []
  },
  {
   "cell_type": "code",
   "execution_count": 37,
   "id": "48edaa86",
   "metadata": {},
   "outputs": [],
   "source": []
  },
  {
   "cell_type": "code",
   "execution_count": 38,
   "id": "3f64186f",
   "metadata": {},
   "outputs": [],
   "source": []
  },
  {
   "cell_type": "code",
   "execution_count": null,
   "id": "d6be5c12",
   "metadata": {},
   "outputs": [],
   "source": []
  },
  {
   "cell_type": "code",
   "execution_count": 39,
   "id": "9da42bb2",
   "metadata": {},
   "outputs": [
    {
     "name": "stdout",
     "output_type": "stream",
     "text": [
      "1 2 3 4 \n",
      "5 6 7 8 \n"
     ]
    }
   ],
   "source": [
    "printA()\n"
   ]
  },
  {
   "cell_type": "code",
   "execution_count": null,
   "id": "734c4812",
   "metadata": {},
   "outputs": [],
   "source": []
  },
  {
   "cell_type": "code",
   "execution_count": null,
   "id": "7c56d7e7",
   "metadata": {},
   "outputs": [],
   "source": []
  }
 ],
 "metadata": {
  "kernelspec": {
   "display_name": "Python 3 (ipykernel)",
   "language": "python",
   "name": "python3"
  },
  "language_info": {
   "codemirror_mode": {
    "name": "ipython",
    "version": 3
   },
   "file_extension": ".py",
   "mimetype": "text/x-python",
   "name": "python",
   "nbconvert_exporter": "python",
   "pygments_lexer": "ipython3",
   "version": "3.10.0"
  }
 },
 "nbformat": 4,
 "nbformat_minor": 5
}
