{
 "cells": [
  {
   "cell_type": "code",
   "execution_count": null,
   "id": "1999f1ba",
   "metadata": {},
   "outputs": [],
   "source": [
    "n,l = list(map(int, input().split()))\n",
    "arr = list(map(int, input().split()))\n",
    "\n",
    "arr.sort()\n",
    "\n",
    "gap = 0\n",
    "tape = 0\n",
    "for i in range(n):\n",
    "    if gap > 0:\n",
    "        if arr[i] - arr[i - 1] <= gap:\n",
    "            gap -= arr[i] - arr[i-1]\n",
    "            continue\n",
    "    \n",
    "    tape += 1\n",
    "    gap = l - 0.5\n",
    "    \n",
    "print(tape)\n",
    "\n",
    "        "
   ]
  }
 ],
 "metadata": {
  "kernelspec": {
   "display_name": "Python 3 (ipykernel)",
   "language": "python",
   "name": "python3"
  },
  "language_info": {
   "codemirror_mode": {
    "name": "ipython",
    "version": 3
   },
   "file_extension": ".py",
   "mimetype": "text/x-python",
   "name": "python",
   "nbconvert_exporter": "python",
   "pygments_lexer": "ipython3",
   "version": "3.10.0"
  }
 },
 "nbformat": 4,
 "nbformat_minor": 5
}
