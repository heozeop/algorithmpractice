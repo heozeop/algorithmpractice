{
 "cells": [
  {
   "cell_type": "code",
   "execution_count": null,
   "id": "da60eadc",
   "metadata": {},
   "outputs": [],
   "source": [
    "import sys\n",
    "input = sys.stdin.readline\n",
    "\n",
    "n,m = list(map(int, input().split()))\n",
    "\n",
    "table_map = []\n",
    "for _ in range(n):\n",
    "    table_map.append(list(map(int,input().split())))\n",
    "    \n",
    "sum_map = [[0] * n for _ in range(n)]\n",
    "\n",
    "for i in range(n):\n",
    "    for j in range(n):\n",
    "        sum_map[i][j] = table_map[i][j]\n",
    "        \n",
    "        if i - 1 >= 0:\n",
    "            sum_map[i][j] += sum_map[i-1][j]\n",
    "        if j - 1 >= 0:\n",
    "            sum_map[i][j] += sum_map[i][j-1]\n",
    "        if i - 1 >= 0 and j - 1 >= 0:\n",
    "            sum_map[i][j] -= sum_map[i-1][j-1]\n",
    "            \n",
    "def sum_val(x1,y1,x2,y2):\n",
    "    sum_value = sum_map[x2][y2]\n",
    "    if x1 - 1 >= 0:\n",
    "        sum_value -= sum_map[x1 - 1][y2]\n",
    "    if y1 - 1 >= 0:\n",
    "        sum_value -= sum_map[x2][y1 - 1]\n",
    "    if x1 - 1 >= 0 and y1 - 1 >= 0:\n",
    "        sum_value += sum_map[x1 - 1][y1-1]\n",
    "    return sum_value\n",
    "\n",
    "for _ in range(m):\n",
    "    x1,y1,x2,y2 = list(map(int, input().split()))\n",
    "    \n",
    "    print(sum_val(x1 - 1,y1 - 1,x2 - 1,y2 - 1))\n",
    "    \n",
    "    "
   ]
  },
  {
   "cell_type": "code",
   "execution_count": 6,
   "id": "1f3cc859",
   "metadata": {},
   "outputs": [
    {
     "name": "stdout",
     "output_type": "stream",
     "text": [
      "[1, 3, 5, 7]\n",
      "[3, 6, 8, 10]\n",
      "[5, 8, 10, 12]\n",
      "[7, 10, 12, 14]\n"
     ]
    }
   ],
   "source": [
    "for a in sum_map:\n",
    "    print(a)\n",
    "    "
   ]
  },
  {
   "cell_type": "code",
   "execution_count": null,
   "id": "44fdcbca",
   "metadata": {},
   "outputs": [],
   "source": []
  }
 ],
 "metadata": {
  "kernelspec": {
   "display_name": "Python 3 (ipykernel)",
   "language": "python",
   "name": "python3"
  },
  "language_info": {
   "codemirror_mode": {
    "name": "ipython",
    "version": 3
   },
   "file_extension": ".py",
   "mimetype": "text/x-python",
   "name": "python",
   "nbconvert_exporter": "python",
   "pygments_lexer": "ipython3",
   "version": "3.10.0"
  }
 },
 "nbformat": 4,
 "nbformat_minor": 5
}
