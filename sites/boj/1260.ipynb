{
 "cells": [
  {
   "cell_type": "code",
   "execution_count": 14,
   "id": "91e55cd1-74c4-49cc-b9b7-96e95d486b84",
   "metadata": {},
   "outputs": [
    {
     "name": "stdin",
     "output_type": "stream",
     "text": [
      " 5 5 3\n",
      " 5 4\n",
      " 5 2\n",
      " 1 2\n",
      " 3 4\n",
      " 3 1\n"
     ]
    },
    {
     "name": "stdout",
     "output_type": "stream",
     "text": [
      "3 1 2 5 4 \n",
      "3 1 4 2 5 "
     ]
    }
   ],
   "source": [
    "from queue import Queue\n",
    "import sys\n",
    "sys.setrecursionlimit(10000)\n",
    "\n",
    "n,m,v = list(map(int, input().split()))\n",
    "\n",
    "dmap = {}\n",
    "for _ in range(m):\n",
    "    fp, ep = list(map(int, input().split()))\n",
    "    if fp in dmap:\n",
    "        dmap[fp].append(ep)\n",
    "    else:\n",
    "        dmap[fp] = [ep]\n",
    "\n",
    "    if ep in dmap:\n",
    "        dmap[ep].append(fp)\n",
    "    else:\n",
    "        dmap[ep] = [fp]\n",
    "for key in dmap.keys():\n",
    "    dmap[key].sort()\n",
    "\n",
    "visited = [False] * n\n",
    "\n",
    "def dfs(start):\n",
    "    print(start, end=\" \")\n",
    "    visited[start - 1] = True\n",
    "    for i in dmap[start]:\n",
    "        if visited[i - 1]:\n",
    "            continue\n",
    "        dfs(i)\n",
    "dfs(v)\n",
    "print('')\n",
    "visited = [False] * n\n",
    "def bfs(start):\n",
    "    queue = Queue()\n",
    "    queue.put(start)\n",
    "    visited[start - 1] = True\n",
    "    while not queue.empty():\n",
    "        front = queue.get()\n",
    "        print(front, end=\" \")\n",
    "\n",
    "        if front not in dmap:\n",
    "            continue\n",
    "\n",
    "        for i in dmap[front]:\n",
    "            if visited[i - 1]:\n",
    "                continue\n",
    "            visited[i - 1] = True\n",
    "            queue.put(i)\n",
    "bfs(v)        "
   ]
  },
  {
   "cell_type": "code",
   "execution_count": null,
   "id": "fdb5cb45-33b7-4c54-898f-29f33b26d993",
   "metadata": {},
   "outputs": [],
   "source": []
  }
 ],
 "metadata": {
  "kernelspec": {
   "display_name": "Python 3 (ipykernel)",
   "language": "python",
   "name": "python3"
  },
  "language_info": {
   "codemirror_mode": {
    "name": "ipython",
    "version": 3
   },
   "file_extension": ".py",
   "mimetype": "text/x-python",
   "name": "python",
   "nbconvert_exporter": "python",
   "pygments_lexer": "ipython3",
   "version": "3.11.5"
  }
 },
 "nbformat": 4,
 "nbformat_minor": 5
}
