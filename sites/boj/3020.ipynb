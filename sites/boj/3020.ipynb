{
 "cells": [
  {
   "cell_type": "code",
   "execution_count": 24,
   "id": "8bd63fb6",
   "metadata": {},
   "outputs": [
    {
     "name": "stdout",
     "output_type": "stream",
     "text": [
      "6 7\n",
      "1\n",
      "5\n",
      "3\n",
      "3\n",
      "5\n",
      "1\n",
      "2 3\n"
     ]
    }
   ],
   "source": [
    "import sys\n",
    "input = sys.stdin.readline\n",
    "arr = []\n",
    "n, h = list(map(int, input().split()))\n",
    "\n",
    "growUp = [0] * (h + 1)\n",
    "growDown = [0] * (h + 1)\n",
    "\n",
    "for i in range(n):\n",
    "    if i % 2 == 0:\n",
    "        growDown[int(input())] += 1\n",
    "    else:\n",
    "        growUp[int(input())] += 1\n",
    "\n",
    "for i in range(h - 1, 0, -1):\n",
    "    growDown[i] += growDown[i + 1]\n",
    "    growUp[i] += growUp[i + 1]\n",
    "\n",
    "minVal = n\n",
    "minValCount = 0\n",
    "for i in range(1, h + 1):\n",
    "    curVal = growDown[i] + growUp[h - i + 1]\n",
    "    if curVal < minVal:\n",
    "        minVal = curVal\n",
    "        minValCount = 1\n",
    "    elif curVal == minVal:\n",
    "        minValCount += 1\n",
    "        \n",
    "print(minVal, minValCount)"
   ]
  },
  {
   "cell_type": "code",
   "execution_count": 14,
   "id": "a3b80b15",
   "metadata": {},
   "outputs": [
    {
     "data": {
      "text/plain": [
       "1"
      ]
     },
     "execution_count": 14,
     "metadata": {},
     "output_type": "execute_result"
    }
   ],
   "source": [
    "3 % 2"
   ]
  },
  {
   "cell_type": "code",
   "execution_count": 15,
   "id": "dd594709",
   "metadata": {},
   "outputs": [
    {
     "data": {
      "text/plain": [
       "0"
      ]
     },
     "execution_count": 15,
     "metadata": {},
     "output_type": "execute_result"
    }
   ],
   "source": [
    "2 % 2"
   ]
  },
  {
   "cell_type": "code",
   "execution_count": null,
   "id": "f05603fa",
   "metadata": {},
   "outputs": [],
   "source": []
  }
 ],
 "metadata": {
  "kernelspec": {
   "display_name": "Python 3 (ipykernel)",
   "language": "python",
   "name": "python3"
  },
  "language_info": {
   "codemirror_mode": {
    "name": "ipython",
    "version": 3
   },
   "file_extension": ".py",
   "mimetype": "text/x-python",
   "name": "python",
   "nbconvert_exporter": "python",
   "pygments_lexer": "ipython3",
   "version": "3.10.0"
  }
 },
 "nbformat": 4,
 "nbformat_minor": 5
}
