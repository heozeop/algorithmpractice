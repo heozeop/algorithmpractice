{
 "cells": [
  {
   "cell_type": "code",
   "execution_count": 1,
   "id": "dc3aa1d6",
   "metadata": {},
   "outputs": [
    {
     "name": "stdout",
     "output_type": "stream",
     "text": [
      "3\n",
      "2\n"
     ]
    }
   ],
   "source": [
    "n = int(input())\n",
    "\n",
    "dp = [[0] * 2 for _ in range(n + 1)]\n",
    "dp[1][0] = 0\n",
    "dp[1][1] = 1\n",
    "\n",
    "for i in range(2, n + 1):\n",
    "    dp[i][0] = dp[i-1][0] + dp[i-1][1]\n",
    "    dp[i][1] = dp[i-1][0]\n",
    "    \n",
    "print(dp[n][0] + dp[n][1])"
   ]
  },
  {
   "cell_type": "code",
   "execution_count": null,
   "id": "a847521f",
   "metadata": {},
   "outputs": [],
   "source": []
  }
 ],
 "metadata": {
  "kernelspec": {
   "display_name": "Python 3 (ipykernel)",
   "language": "python",
   "name": "python3"
  },
  "language_info": {
   "codemirror_mode": {
    "name": "ipython",
    "version": 3
   },
   "file_extension": ".py",
   "mimetype": "text/x-python",
   "name": "python",
   "nbconvert_exporter": "python",
   "pygments_lexer": "ipython3",
   "version": "3.10.0"
  }
 },
 "nbformat": 4,
 "nbformat_minor": 5
}
