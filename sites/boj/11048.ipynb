{
 "cells": [
  {
   "cell_type": "code",
   "execution_count": 1,
   "id": "60595ee1",
   "metadata": {},
   "outputs": [
    {
     "name": "stdout",
     "output_type": "stream",
     "text": [
      "3 4\n",
      "1 2 3 4\n",
      "0 0 0 5\n",
      "9 8 7 6\n",
      "31\n"
     ]
    }
   ],
   "source": [
    "n,m = list(map(int, input().split()))\n",
    "\n",
    "arr = []\n",
    "for _ in range(n):\n",
    "    arr.append(list(map(int, input().split())))\n",
    "    \n",
    "dp = [[0] * (m + 1) for _ in range(n + 1)]\n",
    "\n",
    "for i in range(1, n+ 1):\n",
    "    for j in range(1, m+1):\n",
    "        dp[i][j] = max(dp[i][j-1], dp[i-1][j-1], dp[i-1][j]) + arr[i-1][j-1]\n",
    "print(dp[n][m])\n",
    "        "
   ]
  },
  {
   "cell_type": "code",
   "execution_count": null,
   "id": "6bd67732",
   "metadata": {},
   "outputs": [],
   "source": []
  }
 ],
 "metadata": {
  "kernelspec": {
   "display_name": "Python 3 (ipykernel)",
   "language": "python",
   "name": "python3"
  },
  "language_info": {
   "codemirror_mode": {
    "name": "ipython",
    "version": 3
   },
   "file_extension": ".py",
   "mimetype": "text/x-python",
   "name": "python",
   "nbconvert_exporter": "python",
   "pygments_lexer": "ipython3",
   "version": "3.10.0"
  }
 },
 "nbformat": 4,
 "nbformat_minor": 5
}
