{
 "cells": [
  {
   "cell_type": "code",
   "execution_count": 6,
   "id": "d6950c2c",
   "metadata": {},
   "outputs": [
    {
     "name": "stdout",
     "output_type": "stream",
     "text": [
      "4\n",
      "5\n",
      "4\n",
      "7\n",
      "5\n",
      "7\n"
     ]
    }
   ],
   "source": [
    "n = int(input())\n",
    "\n",
    "arr = []\n",
    "for i in range(n):\n",
    "    arr.append(int(input()))\n",
    "\n",
    "maxVal = arr[n-1]\n",
    "answer = 0\n",
    "for i in range(n - 2, -1, -1):\n",
    "    if maxVal <= arr[i]:\n",
    "        answer += (arr[i] - maxVal + 1)\n",
    "        maxVal = arr[i] - (arr[i] - maxVal + 1)\n",
    "    else:\n",
    "        maxVal = arr[i]\n",
    "        \n",
    "    print(maxVal)\n",
    "        \n",
    "print(answer)\n"
   ]
  },
  {
   "cell_type": "code",
   "execution_count": null,
   "id": "c09ed281",
   "metadata": {},
   "outputs": [],
   "source": []
  }
 ],
 "metadata": {
  "kernelspec": {
   "display_name": "Python 3 (ipykernel)",
   "language": "python",
   "name": "python3"
  },
  "language_info": {
   "codemirror_mode": {
    "name": "ipython",
    "version": 3
   },
   "file_extension": ".py",
   "mimetype": "text/x-python",
   "name": "python",
   "nbconvert_exporter": "python",
   "pygments_lexer": "ipython3",
   "version": "3.10.0"
  }
 },
 "nbformat": 4,
 "nbformat_minor": 5
}
