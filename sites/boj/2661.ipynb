{
 "cells": [
  {
   "cell_type": "code",
   "execution_count": null,
   "id": "025d6eb8",
   "metadata": {},
   "outputs": [],
   "source": [
    "n = 7"
   ]
  },
  {
   "cell_type": "code",
   "execution_count": 9,
   "id": "6828491c",
   "metadata": {},
   "outputs": [
    {
     "name": "stdout",
     "output_type": "stream",
     "text": [
      "10\n",
      "1213123132\n"
     ]
    },
    {
     "ename": "RecursionError",
     "evalue": "maximum recursion depth exceeded while getting the str of an object",
     "output_type": "error",
     "traceback": [
      "\u001b[0;31m---------------------------------------------------------------------------\u001b[0m",
      "\u001b[0;31mRecursionError\u001b[0m                            Traceback (most recent call last)",
      "Input \u001b[0;32mIn [9]\u001b[0m, in \u001b[0;36m<cell line: 27>\u001b[0;34m()\u001b[0m\n\u001b[1;32m     24\u001b[0m         dfs()\n\u001b[1;32m     25\u001b[0m         s\u001b[38;5;241m.\u001b[39mpop()\n\u001b[0;32m---> 27\u001b[0m \u001b[43mdfs\u001b[49m\u001b[43m(\u001b[49m\u001b[43m)\u001b[49m\n",
      "Input \u001b[0;32mIn [9]\u001b[0m, in \u001b[0;36mdfs\u001b[0;34m()\u001b[0m\n\u001b[1;32m     21\u001b[0m     \u001b[38;5;28;01mcontinue\u001b[39;00m\n\u001b[1;32m     23\u001b[0m s\u001b[38;5;241m.\u001b[39mappend(\u001b[38;5;28mstr\u001b[39m(j))\n\u001b[0;32m---> 24\u001b[0m \u001b[43mdfs\u001b[49m\u001b[43m(\u001b[49m\u001b[43m)\u001b[49m\n\u001b[1;32m     25\u001b[0m s\u001b[38;5;241m.\u001b[39mpop()\n",
      "Input \u001b[0;32mIn [9]\u001b[0m, in \u001b[0;36mdfs\u001b[0;34m()\u001b[0m\n\u001b[1;32m     21\u001b[0m     \u001b[38;5;28;01mcontinue\u001b[39;00m\n\u001b[1;32m     23\u001b[0m s\u001b[38;5;241m.\u001b[39mappend(\u001b[38;5;28mstr\u001b[39m(j))\n\u001b[0;32m---> 24\u001b[0m \u001b[43mdfs\u001b[49m\u001b[43m(\u001b[49m\u001b[43m)\u001b[49m\n\u001b[1;32m     25\u001b[0m s\u001b[38;5;241m.\u001b[39mpop()\n",
      "    \u001b[0;31m[... skipping similar frames: dfs at line 24 (2968 times)]\u001b[0m\n",
      "Input \u001b[0;32mIn [9]\u001b[0m, in \u001b[0;36mdfs\u001b[0;34m()\u001b[0m\n\u001b[1;32m     21\u001b[0m     \u001b[38;5;28;01mcontinue\u001b[39;00m\n\u001b[1;32m     23\u001b[0m s\u001b[38;5;241m.\u001b[39mappend(\u001b[38;5;28mstr\u001b[39m(j))\n\u001b[0;32m---> 24\u001b[0m \u001b[43mdfs\u001b[49m\u001b[43m(\u001b[49m\u001b[43m)\u001b[49m\n\u001b[1;32m     25\u001b[0m s\u001b[38;5;241m.\u001b[39mpop()\n",
      "Input \u001b[0;32mIn [9]\u001b[0m, in \u001b[0;36mdfs\u001b[0;34m()\u001b[0m\n\u001b[1;32m     17\u001b[0m     exit()\n\u001b[1;32m     19\u001b[0m \u001b[38;5;28;01mfor\u001b[39;00m j \u001b[38;5;129;01min\u001b[39;00m \u001b[38;5;28mrange\u001b[39m(\u001b[38;5;241m1\u001b[39m,\u001b[38;5;241m4\u001b[39m):\n\u001b[0;32m---> 20\u001b[0m     \u001b[38;5;28;01mif\u001b[39;00m isBadSequence(\u001b[38;5;28;43mstr\u001b[39;49m\u001b[43m(\u001b[49m\u001b[43mj\u001b[49m\u001b[43m)\u001b[49m):\n\u001b[1;32m     21\u001b[0m         \u001b[38;5;28;01mcontinue\u001b[39;00m\n\u001b[1;32m     23\u001b[0m     s\u001b[38;5;241m.\u001b[39mappend(\u001b[38;5;28mstr\u001b[39m(j))\n",
      "\u001b[0;31mRecursionError\u001b[0m: maximum recursion depth exceeded while getting the str of an object"
     ]
    }
   ],
   "source": [
    "n = int(input())\n",
    "s=[]\n",
    "\n",
    "def isBadSequence(addStr):\n",
    "    temp = \"\".join(s) + addStr\n",
    "    for i in range(1, len(temp) // 2 + 1):\n",
    "        if temp[-2 * i : -1 * i] == temp[-1 * i :]:\n",
    "            return True\n",
    "        \n",
    "    return False\n",
    "\n",
    "def dfs():\n",
    "    global s\n",
    "    \n",
    "    if len(s) == n:\n",
    "        print(\"\".join(s))\n",
    "        exit()\n",
    "\n",
    "    for j in range(1,4):\n",
    "        if isBadSequence(str(j)):\n",
    "            continue\n",
    "            \n",
    "        s.append(str(j))\n",
    "        dfs()\n",
    "        s.pop()\n",
    "    \n",
    "dfs()\n",
    "    \n"
   ]
  },
  {
   "cell_type": "code",
   "execution_count": 5,
   "id": "0f981878",
   "metadata": {},
   "outputs": [
    {
     "name": "stdout",
     "output_type": "stream",
     "text": [
      "5 4\n",
      "[0, 0, 0, 0, 0, 0] 5\n",
      "1 2 3\n",
      "1\n",
      "2\n",
      "3 4 4\n",
      "3\n",
      "4\n",
      "1 4 1\n",
      "1\n",
      "2\n",
      "3\n",
      "4\n",
      "2 2 2\n",
      "2\n",
      "1 2 1 1 0 "
     ]
    }
   ],
   "source": [
    "0"
   ]
  },
  {
   "cell_type": "code",
   "execution_count": null,
   "id": "5978fb2f",
   "metadata": {},
   "outputs": [],
   "source": []
  }
 ],
 "metadata": {
  "kernelspec": {
   "display_name": "Python 3 (ipykernel)",
   "language": "python",
   "name": "python3"
  },
  "language_info": {
   "codemirror_mode": {
    "name": "ipython",
    "version": 3
   },
   "file_extension": ".py",
   "mimetype": "text/x-python",
   "name": "python",
   "nbconvert_exporter": "python",
   "pygments_lexer": "ipython3",
   "version": "3.10.0"
  }
 },
 "nbformat": 4,
 "nbformat_minor": 5
}
