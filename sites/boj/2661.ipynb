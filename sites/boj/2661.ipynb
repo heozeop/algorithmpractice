{
 "cells": [
  {
   "cell_type": "code",
   "execution_count": 35,
   "id": "025d6eb8",
   "metadata": {},
   "outputs": [],
   "source": [
    "n = 8"
   ]
  },
  {
   "cell_type": "code",
   "execution_count": 1,
   "id": "6828491c",
   "metadata": {},
   "outputs": [
    {
     "name": "stdout",
     "output_type": "stream",
     "text": [
      "4\n",
      "1213\n"
     ]
    },
    {
     "ename": "RecursionError",
     "evalue": "maximum recursion depth exceeded in comparison",
     "output_type": "error",
     "traceback": [
      "\u001b[0;31m---------------------------------------------------------------------------\u001b[0m",
      "\u001b[0;31mRecursionError\u001b[0m                            Traceback (most recent call last)",
      "Input \u001b[0;32mIn [1]\u001b[0m, in \u001b[0;36m<cell line: 24>\u001b[0;34m()\u001b[0m\n\u001b[1;32m     21\u001b[0m         dfs(s)\n\u001b[1;32m     22\u001b[0m         s\u001b[38;5;241m.\u001b[39mpop()\n\u001b[0;32m---> 24\u001b[0m \u001b[43mdfs\u001b[49m\u001b[43m(\u001b[49m\u001b[43m[\u001b[49m\u001b[43m]\u001b[49m\u001b[43m)\u001b[49m\n",
      "Input \u001b[0;32mIn [1]\u001b[0m, in \u001b[0;36mdfs\u001b[0;34m(sequence)\u001b[0m\n\u001b[1;32m     18\u001b[0m     s\u001b[38;5;241m.\u001b[39mpop()\n\u001b[1;32m     19\u001b[0m     \u001b[38;5;28;01mcontinue\u001b[39;00m\n\u001b[0;32m---> 21\u001b[0m \u001b[43mdfs\u001b[49m\u001b[43m(\u001b[49m\u001b[43ms\u001b[49m\u001b[43m)\u001b[49m\n\u001b[1;32m     22\u001b[0m s\u001b[38;5;241m.\u001b[39mpop()\n",
      "Input \u001b[0;32mIn [1]\u001b[0m, in \u001b[0;36mdfs\u001b[0;34m(sequence)\u001b[0m\n\u001b[1;32m     18\u001b[0m     s\u001b[38;5;241m.\u001b[39mpop()\n\u001b[1;32m     19\u001b[0m     \u001b[38;5;28;01mcontinue\u001b[39;00m\n\u001b[0;32m---> 21\u001b[0m \u001b[43mdfs\u001b[49m\u001b[43m(\u001b[49m\u001b[43ms\u001b[49m\u001b[43m)\u001b[49m\n\u001b[1;32m     22\u001b[0m s\u001b[38;5;241m.\u001b[39mpop()\n",
      "    \u001b[0;31m[... skipping similar frames: dfs at line 21 (2967 times)]\u001b[0m\n",
      "Input \u001b[0;32mIn [1]\u001b[0m, in \u001b[0;36mdfs\u001b[0;34m(sequence)\u001b[0m\n\u001b[1;32m     18\u001b[0m     s\u001b[38;5;241m.\u001b[39mpop()\n\u001b[1;32m     19\u001b[0m     \u001b[38;5;28;01mcontinue\u001b[39;00m\n\u001b[0;32m---> 21\u001b[0m \u001b[43mdfs\u001b[49m\u001b[43m(\u001b[49m\u001b[43ms\u001b[49m\u001b[43m)\u001b[49m\n\u001b[1;32m     22\u001b[0m s\u001b[38;5;241m.\u001b[39mpop()\n",
      "Input \u001b[0;32mIn [1]\u001b[0m, in \u001b[0;36mdfs\u001b[0;34m(sequence)\u001b[0m\n\u001b[1;32m     15\u001b[0m \u001b[38;5;28;01mfor\u001b[39;00m i \u001b[38;5;129;01min\u001b[39;00m \u001b[38;5;28mrange\u001b[39m(\u001b[38;5;241m1\u001b[39m, \u001b[38;5;241m4\u001b[39m):\n\u001b[1;32m     16\u001b[0m     s\u001b[38;5;241m.\u001b[39mappend(\u001b[38;5;28mstr\u001b[39m(i))\n\u001b[0;32m---> 17\u001b[0m     \u001b[38;5;28;01mif\u001b[39;00m \u001b[43misBadSequence\u001b[49m\u001b[43m(\u001b[49m\u001b[43ms\u001b[49m\u001b[43m)\u001b[49m:\n\u001b[1;32m     18\u001b[0m         s\u001b[38;5;241m.\u001b[39mpop()\n\u001b[1;32m     19\u001b[0m         \u001b[38;5;28;01mcontinue\u001b[39;00m\n",
      "Input \u001b[0;32mIn [1]\u001b[0m, in \u001b[0;36misBadSequence\u001b[0;34m(numberArray)\u001b[0m\n\u001b[1;32m      4\u001b[0m length \u001b[38;5;241m=\u001b[39m \u001b[38;5;28mlen\u001b[39m(numberArray)\n\u001b[1;32m      5\u001b[0m \u001b[38;5;28;01mfor\u001b[39;00m i \u001b[38;5;129;01min\u001b[39;00m \u001b[38;5;28mrange\u001b[39m(\u001b[38;5;241m1\u001b[39m, (length\u001b[38;5;241m/\u001b[39m\u001b[38;5;241m/\u001b[39m\u001b[38;5;241m2\u001b[39m) \u001b[38;5;241m+\u001b[39m \u001b[38;5;241m1\u001b[39m):\n\u001b[0;32m----> 6\u001b[0m     \u001b[38;5;28;01mif\u001b[39;00m \u001b[43mnumberArray\u001b[49m\u001b[43m[\u001b[49m\u001b[38;5;241;43m-\u001b[39;49m\u001b[43mi\u001b[49m\u001b[43m:\u001b[49m\u001b[43m]\u001b[49m\u001b[43m \u001b[49m\u001b[38;5;241;43m==\u001b[39;49m\u001b[43m \u001b[49m\u001b[43mnumberArray\u001b[49m\u001b[43m[\u001b[49m\u001b[38;5;241;43m-\u001b[39;49m\u001b[38;5;241;43m2\u001b[39;49m\u001b[38;5;241;43m*\u001b[39;49m\u001b[43mi\u001b[49m\u001b[43m:\u001b[49m\u001b[38;5;241;43m-\u001b[39;49m\u001b[43mi\u001b[49m\u001b[43m]\u001b[49m: \n\u001b[1;32m      7\u001b[0m         \u001b[38;5;28;01mreturn\u001b[39;00m \u001b[38;5;28;01mTrue\u001b[39;00m\n\u001b[1;32m      8\u001b[0m \u001b[38;5;28;01mreturn\u001b[39;00m \u001b[38;5;28;01mFalse\u001b[39;00m\n",
      "\u001b[0;31mRecursionError\u001b[0m: maximum recursion depth exceeded in comparison"
     ]
    }
   ],
   "source": [
    "n = int(input())\n",
    "s=[]\n",
    "def isBadSequence(numberArray):\n",
    "    length = len(numberArray)\n",
    "    for i in range(1, (length//2) + 1):\n",
    "        if numberArray[-i:] == numberArray[-2*i:-i]: \n",
    "            return True\n",
    "    return False\n",
    "\n",
    "def dfs(sequence):\n",
    "    if len(sequence) == n:\n",
    "        print(\"\".join(sequence))\n",
    "        exit()\n",
    "    \n",
    "    for i in range(1, 4):\n",
    "        s.append(str(i))\n",
    "        if isBadSequence(s):\n",
    "            s.pop()\n",
    "            continue\n",
    "        \n",
    "        dfs(s)\n",
    "        s.pop()\n",
    "\n",
    "dfs([])\n",
    "\n",
    "    \n"
   ]
  },
  {
   "cell_type": "code",
   "execution_count": 5,
   "id": "0f981878",
   "metadata": {},
   "outputs": [
    {
     "name": "stdout",
     "output_type": "stream",
     "text": [
      "5 4\n",
      "[0, 0, 0, 0, 0, 0] 5\n",
      "1 2 3\n",
      "1\n",
      "2\n",
      "3 4 4\n",
      "3\n",
      "4\n",
      "1 4 1\n",
      "1\n",
      "2\n",
      "3\n",
      "4\n",
      "2 2 2\n",
      "2\n",
      "1 2 1 1 0 "
     ]
    }
   ],
   "source": []
  },
  {
   "cell_type": "code",
   "execution_count": null,
   "id": "5978fb2f",
   "metadata": {},
   "outputs": [],
   "source": []
  }
 ],
 "metadata": {
  "kernelspec": {
   "display_name": "Python 3 (ipykernel)",
   "language": "python",
   "name": "python3"
  },
  "language_info": {
   "codemirror_mode": {
    "name": "ipython",
    "version": 3
   },
   "file_extension": ".py",
   "mimetype": "text/x-python",
   "name": "python",
   "nbconvert_exporter": "python",
   "pygments_lexer": "ipython3",
   "version": "3.10.0"
  }
 },
 "nbformat": 4,
 "nbformat_minor": 5
}
