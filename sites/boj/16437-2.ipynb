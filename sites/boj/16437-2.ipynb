{
 "cells": [
  {
   "cell_type": "code",
   "execution_count": 17,
   "id": "21baf4fa",
   "metadata": {},
   "outputs": [
    {
     "name": "stdout",
     "output_type": "stream",
     "text": [
      "4\n"
     ]
    }
   ],
   "source": [
    "import sys\n",
    "\n",
    "sys.setrecursionlimit(10**8)\n",
    "input = sys.stdin.readline\n",
    "n = int(input())\n",
    "tree = [[] for _ in range(n+1)]\n",
    "node = [[], [0,0]]\n",
    "\n",
    "for i in range(2, n+1):\n",
    "    [t,a,p] = input().split()\n",
    "    tree[int(p)].append(i)\n",
    "    node.append([t,int(a)])\n",
    "\n",
    "def dfs(cur):\n",
    "    amount = 0\n",
    "    for i in tree[cur]:\n",
    "        amount += dfs(i)\n",
    "        \n",
    "    if node[cur][0] == 'W':\n",
    "        amount -= node[cur][1]\n",
    "        amount = max(amount, 0)\n",
    "    else:\n",
    "        amount += node[cur][1]\n",
    "        \n",
    "    return amount\n",
    "\n",
    "print(dfs(1))"
   ]
  },
  {
   "cell_type": "code",
   "execution_count": 19,
   "id": "5bcdf1c7",
   "metadata": {},
   "outputs": [
    {
     "data": {
      "text/plain": [
       "[]"
      ]
     },
     "execution_count": 19,
     "metadata": {},
     "output_type": "execute_result"
    }
   ],
   "source": [
    "tree[1]\n"
   ]
  },
  {
   "cell_type": "code",
   "execution_count": null,
   "id": "66f60058",
   "metadata": {},
   "outputs": [],
   "source": []
  }
 ],
 "metadata": {
  "kernelspec": {
   "display_name": "Python 3 (ipykernel)",
   "language": "python",
   "name": "python3"
  },
  "language_info": {
   "codemirror_mode": {
    "name": "ipython",
    "version": 3
   },
   "file_extension": ".py",
   "mimetype": "text/x-python",
   "name": "python",
   "nbconvert_exporter": "python",
   "pygments_lexer": "ipython3",
   "version": "3.10.0"
  }
 },
 "nbformat": 4,
 "nbformat_minor": 5
}
