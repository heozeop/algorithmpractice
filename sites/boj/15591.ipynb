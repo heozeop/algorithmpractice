{
 "cells": [
  {
   "cell_type": "code",
   "execution_count": 11,
   "id": "14b7bb25",
   "metadata": {},
   "outputs": [
    {
     "name": "stdout",
     "output_type": "stream",
     "text": [
      "4 3\n",
      "1 2 3\n",
      "2 3 2\n",
      "2 4 4\n",
      "1 2\n",
      "node: 2 distance: 10000000001\n",
      "node: 1 distance: 3\n",
      "node: 3 distance: 2\n",
      "node: 4 distance: 4\n",
      "3\n",
      "4 1\n",
      "node: 1 distance: 10000000001\n",
      "0\n",
      "3 1\n",
      "node: 1 distance: 10000000001\n",
      "node: 2 distance: 3\n",
      "node: 4 distance: 3\n",
      "2\n"
     ]
    }
   ],
   "source": [
    "from collections import deque\n",
    "\n",
    "n,q = list(map(int, input().split()))\n",
    "\n",
    "INF = 10000000001\n",
    "network = {}\n",
    "for _ in range(n - 1):\n",
    "    p1, q1, r1 = list(map(int, input().split()))\n",
    "    if p1 not in network:\n",
    "        network[p1] = {}\n",
    "    if q1 not in network:\n",
    "        network[q1] = {}\n",
    "        \n",
    "    network[p1][q1] = r1\n",
    "    network[q1][p1] = r1\n",
    "    \n",
    "    \n",
    "for _ in range(q):\n",
    "    k, v = list(map(int, input().split()))\n",
    "    \n",
    "    count = 0\n",
    "    visited = [0] * (n + 1);\n",
    "    \n",
    "    queue = deque()\n",
    "    queue.append([v,INF])\n",
    "    while queue:\n",
    "        node, distance = queue.popleft()\n",
    "        visited[node] = 1\n",
    "        \n",
    "        for nextNode in network[node].keys():\n",
    "            if visited[nextNode] == 1:\n",
    "                continue\n",
    "            \n",
    "            value = min(distance, network[node][nextNode])\n",
    "            if (value >= k):\n",
    "                count += 1\n",
    "                queue.append([nextNode, value])\n",
    "    print(count)"
   ]
  },
  {
   "cell_type": "code",
   "execution_count": 5,
   "id": "3d17bf1e",
   "metadata": {},
   "outputs": [],
   "source": [
    "!"
   ]
  },
  {
   "cell_type": "code",
   "execution_count": null,
   "id": "df41402b",
   "metadata": {},
   "outputs": [],
   "source": []
  }
 ],
 "metadata": {
  "kernelspec": {
   "display_name": "Python 3 (ipykernel)",
   "language": "python",
   "name": "python3"
  },
  "language_info": {
   "codemirror_mode": {
    "name": "ipython",
    "version": 3
   },
   "file_extension": ".py",
   "mimetype": "text/x-python",
   "name": "python",
   "nbconvert_exporter": "python",
   "pygments_lexer": "ipython3",
   "version": "3.10.0"
  }
 },
 "nbformat": 4,
 "nbformat_minor": 5
}
