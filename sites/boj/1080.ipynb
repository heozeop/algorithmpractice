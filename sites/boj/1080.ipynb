{
 "cells": [
  {
   "cell_type": "code",
   "execution_count": 16,
   "id": "3c47461a",
   "metadata": {},
   "outputs": [
    {
     "name": "stdout",
     "output_type": "stream",
     "text": [
      "3 4\n",
      "0000\n",
      "0010\n",
      "0000\n",
      "1001\n",
      "1011\n",
      "1001\n",
      "[[0, 0, 0, 0], [0, 0, 1, 0], [0, 0, 0, 0]] [[1, 0, 0, 1], [1, 0, 1, 1], [1, 0, 0, 1]]\n",
      "0 0\n",
      "0 1\n",
      "0 2\n",
      "1 0\n",
      "1 1\n",
      "1 2\n",
      "2 0\n",
      "2 1\n",
      "2 2\n",
      "0 1\n",
      "0 2\n",
      "0 3\n",
      "1 1\n",
      "1 2\n",
      "1 3\n",
      "2 1\n",
      "2 2\n",
      "2 3\n",
      "2\n"
     ]
    }
   ],
   "source": [
    "n, m = map(int, input().split())\n",
    "a = [list(map(int, input())) for _ in range(n)]\n",
    "b = [list(map(int, input())) for _ in range(n)]\n",
    "\n",
    "count = 0\n",
    "\n",
    "def reverse(x, y):\n",
    "    for i in range(x, x + 3):\n",
    "        for j in range(y, y + 3):\n",
    "            a[i][j] = 1 - a[i][j]\n",
    "            \n",
    "def check():\n",
    "    for i in range(n):\n",
    "        for j in range(m):\n",
    "            if a[i][j] != b[i][j]:\n",
    "                return False\n",
    "    return True\n",
    "\n",
    "for i in range(n - 2):\n",
    "    for j in range(m - 2):\n",
    "        if a[i][j] != b[i][j]:\n",
    "            reverse(i, j)\n",
    "            count += 1\n",
    "if check():\n",
    "    print(count)\n",
    "else:\n",
    "    print(-1)\n",
    "            "
   ]
  },
  {
   "cell_type": "code",
   "execution_count": 8,
   "id": "5e44b496",
   "metadata": {},
   "outputs": [
    {
     "name": "stdout",
     "output_type": "stream",
     "text": [
      "[[0, 0, 0], [0, 0, 0], [-1, -1, -1], [0, 0, 0], [-1, -1, -1], [0, 0, 0], [-1, -1, -1], [0, 0, 0], [-1, -1, -1], [-1, -1, -1], [0, 0, 0], [-1, -1, -1], [-1, -1, -1], [-1, -1, -1], [-1, -1, -1], [0, 0, 0], [-1, -1, -1], [-1, -1, -1]]\n"
     ]
    }
   ],
   "source": [
    "n, m = list(map(int, \"18 3\".split()))\n",
    "arr = []\n",
    "in1 = \"\"\"001\n",
    "100\n",
    "100\n",
    "000\n",
    "011\n",
    "010\n",
    "100\n",
    "100\n",
    "010\n",
    "010\n",
    "010\n",
    "110\n",
    "101\n",
    "101\n",
    "000\n",
    "110\n",
    "000\n",
    "110\"\"\".split()\n",
    "in2 = \"\"\"001\n",
    "100\n",
    "011\n",
    "000\n",
    "100\n",
    "010\n",
    "011\n",
    "100\n",
    "101\n",
    "101\n",
    "010\n",
    "001\n",
    "010\n",
    "010\n",
    "111\n",
    "110\n",
    "111\n",
    "001\"\"\".split()\n",
    "\n",
    "for i in range(n):\n",
    "    arr.append(list(map(str, in1[i])))\n",
    "\n",
    "count0 = 0\n",
    "for i in range(n):\n",
    "    cur = list(map(str, in2[i]))\n",
    "    for j in range(m):\n",
    "        if arr[i][j] != cur[j]:\n",
    "            arr[i][j] = 1\n",
    "        else:\n",
    "            arr[i][j] = 0\n",
    "            count0 += 1 \n",
    "    \n",
    "print(arr)"
   ]
  },
  {
   "cell_type": "code",
   "execution_count": 9,
   "id": "cac67c8e",
   "metadata": {},
   "outputs": [
    {
     "name": "stdout",
     "output_type": "stream",
     "text": [
      "5\n"
     ]
    }
   ],
   "source": [
    "  "
   ]
  },
  {
   "cell_type": "code",
   "execution_count": null,
   "id": "45a03245",
   "metadata": {},
   "outputs": [],
   "source": []
  }
 ],
 "metadata": {
  "kernelspec": {
   "display_name": "Python 3 (ipykernel)",
   "language": "python",
   "name": "python3"
  },
  "language_info": {
   "codemirror_mode": {
    "name": "ipython",
    "version": 3
   },
   "file_extension": ".py",
   "mimetype": "text/x-python",
   "name": "python",
   "nbconvert_exporter": "python",
   "pygments_lexer": "ipython3",
   "version": "3.10.0"
  }
 },
 "nbformat": 4,
 "nbformat_minor": 5
}
