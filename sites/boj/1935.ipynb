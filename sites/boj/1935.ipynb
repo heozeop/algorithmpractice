{
 "cells": [
  {
   "cell_type": "code",
   "execution_count": 18,
   "id": "ca5cd6e5",
   "metadata": {},
   "outputs": [
    {
     "name": "stdout",
     "output_type": "stream",
     "text": [
      "1\n",
      "AA+A+\n",
      "1\n",
      "3.00\n"
     ]
    }
   ],
   "source": [
    "MULTIPLE = '*'\n",
    "DIVIDE = '/'\n",
    "PLUS = '+'\n",
    "MINUS = '-'\n",
    "operations = [MULTIPLE, DIVIDE, PLUS, MINUS]\n",
    "def operation(A, B, op):\n",
    "    if op == MULTIPLE: \n",
    "        return A * B\n",
    "    elif op == DIVIDE:\n",
    "        return A / B\n",
    "    elif op == PLUS:\n",
    "        return A + B\n",
    "    elif op == MINUS:\n",
    "        return A - B\n",
    "    else:\n",
    "        raise ValueError('unknown operation', op)\n",
    "\n",
    "n = int(input())\n",
    "expression = list(input())\n",
    "valueList = []\n",
    "for _ in range(n):\n",
    "    valueList.append(int(input()))\n",
    "    \n",
    "for index, value in enumerate(expression):\n",
    "    if value in operations:\n",
    "        continue\n",
    "    expression[index] = valueList[ord(value) - ord('A')]\n",
    "    \n",
    "stack = []\n",
    "for value in expression:\n",
    "    if value in operations:\n",
    "        op = value\n",
    "        B = stack.pop()\n",
    "        A = stack.pop()\n",
    "        stack.append(operation(A,B,op))\n",
    "        continue\n",
    "    stack.append(value)\n",
    "\n",
    "if stack[-1] in operations:\n",
    "    op = stack.pop()\n",
    "    B = stack.pop()\n",
    "    A = stack.pop()\n",
    "    stack.append(operation(A,B,op))\n",
    "    \n",
    "print(\"{0:.2f}\".format(round(stack[0], 2)))\n",
    "        "
   ]
  },
  {
   "cell_type": "code",
   "execution_count": null,
   "id": "4fa61355",
   "metadata": {},
   "outputs": [],
   "source": []
  },
  {
   "cell_type": "code",
   "execution_count": null,
   "id": "79190f68",
   "metadata": {},
   "outputs": [],
   "source": []
  }
 ],
 "metadata": {
  "kernelspec": {
   "display_name": "Python 3 (ipykernel)",
   "language": "python",
   "name": "python3"
  },
  "language_info": {
   "codemirror_mode": {
    "name": "ipython",
    "version": 3
   },
   "file_extension": ".py",
   "mimetype": "text/x-python",
   "name": "python",
   "nbconvert_exporter": "python",
   "pygments_lexer": "ipython3",
   "version": "3.10.0"
  }
 },
 "nbformat": 4,
 "nbformat_minor": 5
}
