{
 "cells": [
  {
   "cell_type": "code",
   "execution_count": 6,
   "id": "d5772f41",
   "metadata": {},
   "outputs": [
    {
     "name": "stdout",
     "output_type": "stream",
     "text": [
      "200\n",
      "19\n"
     ]
    }
   ],
   "source": [
    "s = int(input())\n",
    "i = 1\n",
    "cnt = 0\n",
    "\n",
    "if s == 1:\n",
    "    cnt = 1\n",
    "else:\n",
    "    while(i <= s):\n",
    "        cnt += 1\n",
    "        s -= i\n",
    "        i += 1\n",
    "    \n",
    "print(cnt)"
   ]
  },
  {
   "cell_type": "code",
   "execution_count": null,
   "id": "e9d4d6e2",
   "metadata": {},
   "outputs": [],
   "source": []
  }
 ],
 "metadata": {
  "kernelspec": {
   "display_name": "Python 3 (ipykernel)",
   "language": "python",
   "name": "python3"
  },
  "language_info": {
   "codemirror_mode": {
    "name": "ipython",
    "version": 3
   },
   "file_extension": ".py",
   "mimetype": "text/x-python",
   "name": "python",
   "nbconvert_exporter": "python",
   "pygments_lexer": "ipython3",
   "version": "3.10.0"
  }
 },
 "nbformat": 4,
 "nbformat_minor": 5
}
