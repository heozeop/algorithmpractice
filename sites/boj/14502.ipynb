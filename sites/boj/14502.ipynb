{
 "cells": [
  {
   "cell_type": "code",
   "execution_count": 12,
   "id": "9e2a55ae",
   "metadata": {},
   "outputs": [
    {
     "name": "stdout",
     "output_type": "stream",
     "text": [
      "8 8\n",
      "2 0 0 0 0 0 0 2\n",
      "2 0 0 0 0 0 0 2\n",
      "2 0 0 0 0 0 0 2\n",
      "2 0 0 0 0 0 0 2\n",
      "2 0 0 0 0 0 0 2\n",
      "0 0 0 0 0 0 0 0\n",
      "0 0 0 0 0 0 0 0\n",
      "0 0 0 0 0 0 0 0\n"
     ]
    }
   ],
   "source": [
    "n,m = list(map(int, input().split()))\n",
    "lab_map = []\n",
    "for _ in range(n):\n",
    "    lab_map.append(list(map(int, input().split())))\n",
    "    "
   ]
  },
  {
   "cell_type": "code",
   "execution_count": 13,
   "id": "45c4d6e2",
   "metadata": {},
   "outputs": [
    {
     "name": "stdout",
     "output_type": "stream",
     "text": [
      "3\n"
     ]
    }
   ],
   "source": [
    "\n",
    "directions = [\n",
    "    [0,1],\n",
    "    [0,-1],\n",
    "    [1,0],\n",
    "    [-1, 0]\n",
    "]\n",
    "\n",
    "def dfs(x,y, visited):\n",
    "    global n,m, lab_map;\n",
    "    \n",
    "    for i in range(4):\n",
    "        nx = x + directions[i][0]\n",
    "        ny = y + directions[i][1]\n",
    "        \n",
    "        if nx < 0 or ny < 0 or nx >= n or ny >= m:\n",
    "            continue\n",
    "\n",
    "        if lab_map[nx][ny] != 0:\n",
    "            continue\n",
    "            \n",
    "        if visited[nx][ny] != 0:\n",
    "            continue\n",
    "        \n",
    "        visited[nx][ny] = 1\n",
    "        dfs(nx,ny,visited)\n",
    "\n",
    "virus_location_list = []\n",
    "empty_location_list = []\n",
    "wall_count = 0\n",
    "\n",
    "for i in range(n):\n",
    "    for j in range(m):\n",
    "        if lab_map[i][j] == 2:\n",
    "            virus_location_list.append([i,j])\n",
    "        elif lab_map[i][j] == 1:\n",
    "            wall_count += 1\n",
    "        elif lab_map[i][j] == 0:\n",
    "            empty_location_list.append([i,j])\n",
    "            \n",
    "max_count = 0\n",
    "len_empty_location_list = len(empty_location_list)\n",
    "for i in range(len_empty_location_list):\n",
    "    ix,iy = empty_location_list[i]\n",
    "    lab_map[ix][iy] = 1 \n",
    "    for j in range(i + 1, len_empty_location_list):\n",
    "        jx,jy = empty_location_list[j]\n",
    "        lab_map[jx][jy] = 1\n",
    "        for k in range(j + 1, len_empty_location_list):\n",
    "            kx,ky = empty_location_list[k]\n",
    "            lab_map[kx][ky] = 1 \n",
    "            visited = [[0] * m for _ in range(n)]\n",
    "            for [x,y] in virus_location_list:\n",
    "                visited[x][y] = 1\n",
    "                dfs(x,y,visited)\n",
    "                \n",
    "            count_zero = 0\n",
    "            for x in range(n):\n",
    "                for y in range(m):\n",
    "                    if visited[x][y] == 0:\n",
    "                        count_zero += 1\n",
    "            max_count = max(max_count, count_zero - 3 - wall_count)\n",
    "            lab_map[kx][ky] = 0        \n",
    "        lab_map[jx][jy] = 0\n",
    "    lab_map[ix][iy] = 0\n",
    "print(max_count)"
   ]
  },
  {
   "cell_type": "code",
   "execution_count": null,
   "id": "0f53b20e",
   "metadata": {},
   "outputs": [],
   "source": []
  },
  {
   "cell_type": "code",
   "execution_count": null,
   "id": "b266cad8",
   "metadata": {},
   "outputs": [],
   "source": []
  }
 ],
 "metadata": {
  "kernelspec": {
   "display_name": "Python 3 (ipykernel)",
   "language": "python",
   "name": "python3"
  },
  "language_info": {
   "codemirror_mode": {
    "name": "ipython",
    "version": 3
   },
   "file_extension": ".py",
   "mimetype": "text/x-python",
   "name": "python",
   "nbconvert_exporter": "python",
   "pygments_lexer": "ipython3",
   "version": "3.10.0"
  }
 },
 "nbformat": 4,
 "nbformat_minor": 5
}
