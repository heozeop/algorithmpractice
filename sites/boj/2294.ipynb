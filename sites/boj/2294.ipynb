{
 "cells": [
  {
   "cell_type": "code",
   "execution_count": 8,
   "id": "af6c0368",
   "metadata": {},
   "outputs": [
    {
     "name": "stdout",
     "output_type": "stream",
     "text": [
      "3 15\n",
      "1\n",
      "5\n",
      "12\n",
      "3\n"
     ]
    }
   ],
   "source": [
    "n,k = list(map(int, input().split()))\n",
    "\n",
    "arr = [0,]\n",
    "\n",
    "for _ in range(n):\n",
    "    arr.append(int(input()))\n",
    "\n",
    "INF = 1e9\n",
    "dp = [[INF] * (k + 1) for _ in range(n + 1)]\n",
    "for i in range(1, n + 1):\n",
    "    for j in range(1, k + 1):\n",
    "        dp[i][j] = dp[i-1][j]\n",
    "        if j % arr[i] == 0:\n",
    "            dp[i][j] = min(dp[i][j], int(j / arr[i]))\n",
    "        \n",
    "        if j - arr[i] >= 0:\n",
    "            dp[i][j] = min(dp[i][j], dp[i][j - arr[i]] + 1)\n",
    "if dp[n][k] == INF:\n",
    "    print(-1)\n",
    "else:\n",
    "    print(dp[n][k])"
   ]
  },
  {
   "cell_type": "code",
   "execution_count": null,
   "id": "7f7b50ca",
   "metadata": {},
   "outputs": [],
   "source": []
  },
  {
   "cell_type": "code",
   "execution_count": null,
   "id": "c3764ce6",
   "metadata": {},
   "outputs": [],
   "source": []
  }
 ],
 "metadata": {
  "kernelspec": {
   "display_name": "Python 3 (ipykernel)",
   "language": "python",
   "name": "python3"
  },
  "language_info": {
   "codemirror_mode": {
    "name": "ipython",
    "version": 3
   },
   "file_extension": ".py",
   "mimetype": "text/x-python",
   "name": "python",
   "nbconvert_exporter": "python",
   "pygments_lexer": "ipython3",
   "version": "3.10.0"
  }
 },
 "nbformat": 4,
 "nbformat_minor": 5
}
