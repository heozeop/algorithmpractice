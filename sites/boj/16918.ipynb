{
 "cells": [
  {
   "cell_type": "code",
   "execution_count": 78,
   "id": "58319ea9",
   "metadata": {},
   "outputs": [
    {
     "name": "stdout",
     "output_type": "stream",
     "text": [
      "6 7 5\n"
     ]
    }
   ],
   "source": [
    "r,c,n = list(map(int, input().split()))"
   ]
  },
  {
   "cell_type": "code",
   "execution_count": 79,
   "id": "96bcbc78",
   "metadata": {},
   "outputs": [],
   "source": [
    "board = []\n",
    "for _ in range(r):\n",
    "    board.append(list(input()))\n",
    "\n",
    "# board = list(map(list, \"\"\".......\n",
    "# ...O...\n",
    "# ....O..\n",
    "# .......\n",
    "# OO.....\n",
    "# OO.....\"\"\".split('\\n')))"
   ]
  },
  {
   "cell_type": "code",
   "execution_count": 80,
   "id": "8b724886",
   "metadata": {},
   "outputs": [],
   "source": [
    "timeBoard = [[-1 for _ in range(c)] for _ in range(r)]\n",
    "\n",
    "for i in range(r):\n",
    "    for j in range(c):\n",
    "        if board[i][j] == 'O':\n",
    "            timeBoard[i][j] = 3\n",
    "\n",
    "def setBomb():\n",
    "    for i in range(r):\n",
    "        for j in range(c):\n",
    "            if board[i][j] == \".\":\n",
    "                board[i][j] = 'O'\n",
    "                timeBoard[i][j] = 3\n",
    "\n",
    "def findBombsToBlow():\n",
    "    bombsToBlow = []\n",
    "    for i in range(r):\n",
    "        for j in range(c):\n",
    "            if timeBoard[i][j] == 0:\n",
    "                bombsToBlow.append((i,j))\n",
    "    return bombsToBlow\n",
    "\n",
    "def iterateBomb():\n",
    "    for i in range(r):\n",
    "        for j in range(c):\n",
    "            if timeBoard[i][j] == -1:\n",
    "                continue\n",
    "            timeBoard[i][j] -= 1\n",
    "\n",
    "directions = [(0,1), (0,-1),(1,0),(-1,0)]\n",
    "def blowBomb(x, y):\n",
    "    board[x][y] = '.'\n",
    "    timeBoard[x][y] = -1\n",
    "    for i,j in directions:\n",
    "        nx = x + i\n",
    "        ny = y + j\n",
    "        \n",
    "        if nx < 0 or ny < 0 or nx >= r or ny >= c:\n",
    "            continue\n",
    "        \n",
    "        board[nx][ny] = '.'\n",
    "        timeBoard[nx][ny] = -1\n",
    "        \n",
    "def printBoard():\n",
    "    for i in range(r):\n",
    "        for j in range(c):\n",
    "            print(board[i][j], end=\"\")\n",
    "        print()"
   ]
  },
  {
   "cell_type": "code",
   "execution_count": 81,
   "id": "c7e51fb5",
   "metadata": {},
   "outputs": [
    {
     "name": "stdout",
     "output_type": "stream",
     "text": [
      "[]\n",
      ".......\n",
      "...O...\n",
      "....O..\n",
      ".......\n",
      "OO.....\n",
      "OO.....\n",
      "\n",
      "[]\n",
      "OOOOOOO\n",
      "OOOOOOO\n",
      "OOOOOOO\n",
      "OOOOOOO\n",
      "OOOOOOO\n",
      "OOOOOOO\n",
      "\n",
      "[(1, 3), (2, 4), (4, 0), (4, 1), (5, 0), (5, 1)]\n",
      "OOO.OOO\n",
      "OO...OO\n",
      "OOO...O\n",
      "..OO.OO\n",
      "...OOOO\n",
      "...OOOO\n",
      "\n",
      "[]\n",
      "OOOOOOO\n",
      "OOOOOOO\n",
      "OOOOOOO\n",
      "OOOOOOO\n",
      "OOOOOOO\n",
      "OOOOOOO\n",
      "\n",
      "[(0, 0), (0, 1), (0, 2), (0, 4), (0, 5), (0, 6), (1, 0), (1, 1), (1, 5), (1, 6), (2, 0), (2, 1), (2, 2), (2, 6), (3, 2), (3, 3), (3, 5), (3, 6), (4, 3), (4, 4), (4, 5), (4, 6), (5, 3), (5, 4), (5, 5), (5, 6)]\n",
      ".......\n",
      "...O...\n",
      "....O..\n",
      ".......\n",
      "OO.....\n",
      "OO.....\n",
      "\n"
     ]
    }
   ],
   "source": [
    "setBombOn = 1\n",
    "for i in range(n):\n",
    "    iterateBomb()\n",
    "    bombsToBlow = findBombsToBlow()\n",
    "    print(bombsToBlow)\n",
    "\n",
    "    for (x,y) in bombsToBlow:\n",
    "        blowBomb(x,y)\n",
    "    \n",
    "    if i == setBombOn:\n",
    "        setBomb()\n",
    "        setBombOn += 2\n",
    "        \n",
    "    printBoard()\n",
    "    print()\n",
    "    "
   ]
  },
  {
   "cell_type": "code",
   "execution_count": 77,
   "id": "1cddc9e0",
   "metadata": {},
   "outputs": [
    {
     "name": "stdout",
     "output_type": "stream",
     "text": [
      "OOOOOOO\n",
      "OOOOOOO\n",
      "OOOOOOO\n",
      "OOOOOOO\n",
      "OOOOOOO\n",
      "OOOOOOO\n"
     ]
    }
   ],
   "source": [
    "printBoard()"
   ]
  },
  {
   "cell_type": "code",
   "execution_count": null,
   "id": "64466d14",
   "metadata": {},
   "outputs": [],
   "source": []
  }
 ],
 "metadata": {
  "kernelspec": {
   "display_name": "Python 3 (ipykernel)",
   "language": "python",
   "name": "python3"
  },
  "language_info": {
   "codemirror_mode": {
    "name": "ipython",
    "version": 3
   },
   "file_extension": ".py",
   "mimetype": "text/x-python",
   "name": "python",
   "nbconvert_exporter": "python",
   "pygments_lexer": "ipython3",
   "version": "3.10.0"
  }
 },
 "nbformat": 4,
 "nbformat_minor": 5
}
