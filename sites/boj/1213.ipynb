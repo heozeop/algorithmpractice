{
 "cells": [
  {
   "cell_type": "code",
   "execution_count": 7,
   "id": "2065b39b",
   "metadata": {},
   "outputs": [
    {
     "name": "stdout",
     "output_type": "stream",
     "text": [
      "BBAAA\n",
      "ABABA\n"
     ]
    }
   ],
   "source": [
    "from collections import Counter\n",
    "\n",
    "name = list(map(str, input()))\n",
    "name.sort()\n",
    "count = Counter(name)\n",
    "odd = 0\n",
    "oddChar = \"\"\n",
    "ans = \"\"\n",
    "\n",
    "for i in count:\n",
    "    if count[i] % 2 != 0:\n",
    "        odd += 1\n",
    "        oddChar += i\n",
    "    \n",
    "    for _ in range(count[i]//2):\n",
    "        ans += i\n",
    "\n",
    "if odd > 1:\n",
    "    print (\"I'm Sorry Hansoo\")\n",
    "    \n",
    "if odd == 0:\n",
    "    print(ans + ans[::-1])\n",
    "    \n",
    "if odd == 1:\n",
    "    print(ans + oddChar + ans[::-1])"
   ]
  }
 ],
 "metadata": {
  "kernelspec": {
   "display_name": "Python 3 (ipykernel)",
   "language": "python",
   "name": "python3"
  },
  "language_info": {
   "codemirror_mode": {
    "name": "ipython",
    "version": 3
   },
   "file_extension": ".py",
   "mimetype": "text/x-python",
   "name": "python",
   "nbconvert_exporter": "python",
   "pygments_lexer": "ipython3",
   "version": "3.10.0"
  }
 },
 "nbformat": 4,
 "nbformat_minor": 5
}
