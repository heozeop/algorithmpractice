{
 "cells": [
  {
   "cell_type": "code",
   "execution_count": 1,
   "id": "2065b39b",
   "metadata": {},
   "outputs": [
    {
     "ename": "SyntaxError",
     "evalue": "invalid syntax (562475448.py, line 24)",
     "output_type": "error",
     "traceback": [
      "\u001b[0;36m  Input \u001b[0;32mIn [1]\u001b[0;36m\u001b[0m\n\u001b[0;31m    if odd === 1:\u001b[0m\n\u001b[0m             ^\u001b[0m\n\u001b[0;31mSyntaxError\u001b[0m\u001b[0;31m:\u001b[0m invalid syntax\n"
     ]
    }
   ],
   "source": [
    "from collections import Counter\n",
    "\n",
    "name = list(map(str, input()))\n",
    "\n",
    "count = Counter(name)\n",
    "odd = 0\n",
    "oddChar = \"\"\n",
    "ans = \"\"\n",
    "\n",
    "for i in count:\n",
    "    if count[i] % 2 != 0:\n",
    "        odd += 1\n",
    "        oddChar += i\n",
    "    \n",
    "    for _ in range(count[i]//2):\n",
    "        ans += i\n",
    "\n",
    "if odd > 1:\n",
    "    print (\"I'm Sorry Hansoo\")\n",
    "    \n",
    "if odd == 0:\n",
    "    print(ans + ans[::-1])\n",
    "    \n",
    "if odd === 1:\n",
    "    print(ans + oddChar + ans[::-1])"
   ]
  }
 ],
 "metadata": {
  "kernelspec": {
   "display_name": "Python 3 (ipykernel)",
   "language": "python",
   "name": "python3"
  },
  "language_info": {
   "codemirror_mode": {
    "name": "ipython",
    "version": 3
   },
   "file_extension": ".py",
   "mimetype": "text/x-python",
   "name": "python",
   "nbconvert_exporter": "python",
   "pygments_lexer": "ipython3",
   "version": "3.10.0"
  }
 },
 "nbformat": 4,
 "nbformat_minor": 5
}
