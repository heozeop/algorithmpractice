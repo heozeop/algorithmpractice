{
 "cells": [
  {
   "cell_type": "code",
   "execution_count": 36,
   "id": "03cb254c",
   "metadata": {},
   "outputs": [
    {
     "name": "stdout",
     "output_type": "stream",
     "text": [
      "2 7\n",
      "2 2 3 2 3 7 2\n",
      "1\n"
     ]
    }
   ],
   "source": [
    "from heapq import heappush, heappop\n",
    "plugged = set()\n",
    "plugDict = {}\n",
    "\n",
    "n, k = map(int, input().split())\n",
    "arr = input().split()\n",
    "\n",
    "count = 0\n",
    "for i, num in enumerate(arr):\n",
    "    if num in plugDict:\n",
    "        plugDict[num] += (k - i)\n",
    "    else:\n",
    "        plugDict[num] = (k - i)\n",
    "\n",
    "tempIdx = -1\n",
    "while count < n:\n",
    "    tempIdx += 1\n",
    "    if arr[tempIdx] in plugged:\n",
    "        continue\n",
    "    count += 1\n",
    "    plugged.add(arr[tempIdx])\n",
    "\n",
    "answer = 0\n",
    "for i, num in enumerate(arr):\n",
    "    plugDict[num] -= (k - i)\n",
    "    if num in plugged:\n",
    "        continue\n",
    "    \n",
    "    answer += 1\n",
    "    \n",
    "    plugList = []\n",
    "    for j in list(plugged):\n",
    "        plugList.append([plugDict[j], j])\n",
    "        \n",
    "    plugList = sorted(plugList, key=lambda a : a[0])\n",
    "\n",
    "    (value, key) = plugList[0]\n",
    "    \n",
    "    plugged.add(num)\n",
    "    plugged.remove(key)\n",
    "    \n",
    "print(answer)"
   ]
  },
  {
   "cell_type": "code",
   "execution_count": null,
   "id": "45d811b4",
   "metadata": {},
   "outputs": [],
   "source": []
  },
  {
   "cell_type": "code",
   "execution_count": null,
   "id": "e4641bb9",
   "metadata": {},
   "outputs": [],
   "source": [
    "2 10\n",
    "2 3 1 2 4 2 3 3 3 3 "
   ]
  }
 ],
 "metadata": {
  "kernelspec": {
   "display_name": "Python 3 (ipykernel)",
   "language": "python",
   "name": "python3"
  },
  "language_info": {
   "codemirror_mode": {
    "name": "ipython",
    "version": 3
   },
   "file_extension": ".py",
   "mimetype": "text/x-python",
   "name": "python",
   "nbconvert_exporter": "python",
   "pygments_lexer": "ipython3",
   "version": "3.10.0"
  }
 },
 "nbformat": 4,
 "nbformat_minor": 5
}
