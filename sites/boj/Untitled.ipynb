{
 "cells": [
  {
   "cell_type": "code",
   "execution_count": 44,
   "id": "ea09419f",
   "metadata": {},
   "outputs": [
    {
     "name": "stdout",
     "output_type": "stream",
     "text": [
      "2 10\n",
      "2 3 1 2 4 2 3 3 3 3\n",
      "3\n"
     ]
    }
   ],
   "source": [
    "n, k = map(int, input().split())\n",
    "if n >= k:\n",
    "    print(0)\n",
    "    exit()\n",
    "\n",
    "arr = list(map(int,input().split()))\n",
    "\n",
    "plugSet = set()\n",
    "answer = 0\n",
    "for i, numVal in enumerate(arr):\n",
    "    if numVal in plugSet:\n",
    "        continue\n",
    "    \n",
    "    if len(plugSet) < n:\n",
    "        plugSet.append(numVal)\n",
    "        continue\n",
    "        \n",
    "    answer += 1\n",
    "\n",
    "    maxIdx = 0\n",
    "    result = 0\n",
    "    for plug in plugSet:\n",
    "        if plug not in arr[i:]:\n",
    "            keyVal = plug\n",
    "            break\n",
    "            \n",
    "        curIdx = arr[i:].index(plug)\n",
    "        if curIdx > maxIdx:\n",
    "            maxIdx = curIdx\n",
    "            keyVal = plug\n",
    "    \n",
    "    plugSet.add(num)\n",
    "    \n",
    "print(answer)"
   ]
  },
  {
   "cell_type": "code",
   "execution_count": null,
   "id": "b094b281",
   "metadata": {},
   "outputs": [],
   "source": []
  },
  {
   "cell_type": "code",
   "execution_count": null,
   "id": "c5c1b22f",
   "metadata": {},
   "outputs": [],
   "source": [
    "2 10\n",
    "2 3 1 2 4 2 3 3 3 3 "
   ]
  }
 ],
 "metadata": {
  "kernelspec": {
   "display_name": "Python 3 (ipykernel)",
   "language": "python",
   "name": "python3"
  },
  "language_info": {
   "codemirror_mode": {
    "name": "ipython",
    "version": 3
   },
   "file_extension": ".py",
   "mimetype": "text/x-python",
   "name": "python",
   "nbconvert_exporter": "python",
   "pygments_lexer": "ipython3",
   "version": "3.10.0"
  }
 },
 "nbformat": 4,
 "nbformat_minor": 5
}
