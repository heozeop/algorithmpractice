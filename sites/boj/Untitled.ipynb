{
 "cells": [
  {
   "cell_type": "code",
   "execution_count": null,
   "id": "4747ccd2",
   "metadata": {},
   "outputs": [],
   "source": [
    "r,c = list(map(int, input().split()))\n",
    "road = [0] * c\n",
    "for i in range(r):\n",
    "    road[i] = list(map(str, input()))"
   ]
  },
  {
   "cell_type": "code",
   "execution_count": 61,
   "id": "1ccc4a16",
   "metadata": {},
   "outputs": [],
   "source": [
    "r, c = list(map(int, \"6 10\".split()))\n",
    "road = list(map(list,\"\"\"..x.......\n",
    ".....x....\n",
    ".x....x...\n",
    "...x...xx.\n",
    "..........\n",
    "....x.....\"\"\".split()))"
   ]
  },
  {
   "cell_type": "code",
   "execution_count": 62,
   "id": "67ad71ba",
   "metadata": {},
   "outputs": [
    {
     "name": "stdout",
     "output_type": "stream",
     "text": [
      "[['.', '.', 'x', '.', '.', '.', '.', '.', '.', '.'], ['.', '.', '.', '.', '.', 'x', '.', '.', '.', '.'], ['.', 'x', '.', '.', '.', '.', 'x', '.', '.', '.'], ['.', '.', '.', 'x', '.', '.', '.', 'x', 'x', '.'], ['.', '.', '.', '.', '.', '.', '.', '.', '.', '.'], ['.', '.', '.', '.', 'x', '.', '.', '.', '.', '.']] 6 10\n"
     ]
    }
   ],
   "source": [
    "print(road, r, c\n",
    "     )"
   ]
  },
  {
   "cell_type": "code",
   "execution_count": 63,
   "id": "2daadf5f",
   "metadata": {},
   "outputs": [
    {
     "name": "stdout",
     "output_type": "stream",
     "text": [
      "[['R', 'R', 'x', 'R', 'R', 'R', 'R', 'R', 'R', 'R'], ['R', 'R', 'R', 'R', 'R', 'x', 'R', 'R', 'R', 'R'], ['R', 'x', 'R', 'R', 'R', 'R', 'x', 'R', 'R', 'R'], ['R', 'R', 'R', 'x', 'R', 'R', 'R', 'x', 'x', 'R'], ['R', 'R', 'R', 'R', 'R', 'R', 'R', 'R', 'R', 'R'], ['R', 'R', 'R', 'R', 'x', 'R', 'R', 'R', 'R', '.']]\n",
      "5\n"
     ]
    }
   ],
   "source": [
    "\n",
    "direction = [\n",
    "    [-1, 1],\n",
    "    [0, 1],\n",
    "    [1, 1]\n",
    "]\n",
    "REGIDENT = 'R'\n",
    "for i in range(r):\n",
    "    road[i][0] = REGIDENT\n",
    "\n",
    "for i in range(c):\n",
    "    for j in range(r):\n",
    "        if road[j][i] != REGIDENT:\n",
    "            continue\n",
    "            \n",
    "        for [x, y] in direction:\n",
    "            nx = j + x\n",
    "            ny = i + y\n",
    "            if nx < 0 or nx >= r or ny < 0 or ny >= c:\n",
    "                continue\n",
    "            if road[nx][ny] == 'x':\n",
    "                continue\n",
    "            if road[nx][ny] == REGIDENT:\n",
    "                continue\n",
    "            road[nx][ny] = REGIDENT\n",
    "            break\n",
    "            \n",
    "answer = 0\n",
    "for j in range(r):\n",
    "    if road[j][c - 1] == REGIDENT:\n",
    "        answer += 1\n",
    "\n",
    "print(answer)"
   ]
  },
  {
   "cell_type": "code",
   "execution_count": null,
   "id": "5309ce2e",
   "metadata": {},
   "outputs": [],
   "source": []
  }
 ],
 "metadata": {
  "kernelspec": {
   "display_name": "Python 3 (ipykernel)",
   "language": "python",
   "name": "python3"
  },
  "language_info": {
   "codemirror_mode": {
    "name": "ipython",
    "version": 3
   },
   "file_extension": ".py",
   "mimetype": "text/x-python",
   "name": "python",
   "nbconvert_exporter": "python",
   "pygments_lexer": "ipython3",
   "version": "3.10.0"
  }
 },
 "nbformat": 4,
 "nbformat_minor": 5
}
