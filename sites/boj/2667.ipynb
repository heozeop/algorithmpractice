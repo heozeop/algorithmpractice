{
 "cells": [
  {
   "cell_type": "code",
   "execution_count": 26,
   "id": "fd06f495",
   "metadata": {},
   "outputs": [
    {
     "name": "stdout",
     "output_type": "stream",
     "text": [
      "2\n",
      "01\n",
      "10\n"
     ]
    }
   ],
   "source": [
    "n = int(input())\n",
    "\n",
    "map_list = []\n",
    "\n",
    "for _ in range(n):\n",
    "    map_list.append(list(input()))\n"
   ]
  },
  {
   "cell_type": "code",
   "execution_count": 27,
   "id": "156ad126",
   "metadata": {},
   "outputs": [
    {
     "name": "stdout",
     "output_type": "stream",
     "text": [
      "2\n",
      "1\n",
      "1\n"
     ]
    }
   ],
   "source": [
    "\n",
    "TARGET = '1'\n",
    "VISITED = -1\n",
    "cost_list = []\n",
    "directions = [\n",
    "    [0, 1],\n",
    "    [0, -1],\n",
    "    [1,0],\n",
    "    [-1,0]\n",
    "]\n",
    "\n",
    "def dfs(x,y):\n",
    "    global n\n",
    "    \n",
    "    map_list[x][y] = VISITED\n",
    "    \n",
    "    localCount = 1\n",
    "    for i in range(4):\n",
    "        nx = x + directions[i][0]\n",
    "        ny = y + directions[i][1]\n",
    "        \n",
    "        if nx < 0 or ny < 0 or nx >= n or ny >= n:\n",
    "            continue\n",
    "            \n",
    "        if map_list[nx][ny] != TARGET:\n",
    "            continue\n",
    "        \n",
    "        localCount += dfs(nx,ny)\n",
    "        \n",
    "    return localCount\n",
    "\n",
    "for i in range(n):\n",
    "    for j in range(n):\n",
    "        if map_list[i][j] != TARGET:\n",
    "            continue\n",
    "        cost_list.append(dfs(i,j))\n",
    "\n",
    "cost_list.sort()\n",
    "print(len(cost_list))\n",
    "for i in cost_list:\n",
    "    print(i)"
   ]
  },
  {
   "cell_type": "code",
   "execution_count": null,
   "id": "254fb554",
   "metadata": {},
   "outputs": [],
   "source": []
  }
 ],
 "metadata": {
  "kernelspec": {
   "display_name": "Python 3 (ipykernel)",
   "language": "python",
   "name": "python3"
  },
  "language_info": {
   "codemirror_mode": {
    "name": "ipython",
    "version": 3
   },
   "file_extension": ".py",
   "mimetype": "text/x-python",
   "name": "python",
   "nbconvert_exporter": "python",
   "pygments_lexer": "ipython3",
   "version": "3.10.0"
  }
 },
 "nbformat": 4,
 "nbformat_minor": 5
}
