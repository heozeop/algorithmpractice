{
 "cells": [
  {
   "cell_type": "code",
   "execution_count": 5,
   "id": "b5228339",
   "metadata": {},
   "outputs": [
    {
     "name": "stdout",
     "output_type": "stream",
     "text": [
      "436\n"
     ]
    }
   ],
   "source": [
    "# n, m = list(map(int, input().split()))\n",
    "# arr = []\n",
    "# for _ in range(n):\n",
    "#     arr.append(list(map(int, input().split())))\n",
    "n = m = 5\n",
    "arr = [\n",
    "[10, 25, 7 ,8, 13],\n",
    "[68, 24, -78, 63, 32],\n",
    "[12, -69, 100, -29, -25],\n",
    "[-16, -22, -57, -33, 99],\n",
    "[7, -76, -11, 77, 15],\n",
    "]\n",
    "LOWER_LIMIT = 101\n",
    "dp = [[LOWER_LIMIT] * m for _ in range(n)]\n",
    "\n",
    "DIRECTION = [\n",
    "    [1, 0],\n",
    "    [0, -1],\n",
    "    [0, 1]\n",
    "]\n",
    "\n",
    "visited = [[False] * m for _ in range(n)]\n",
    "\n",
    "def dfs(x, y):\n",
    "    global n,m\n",
    "    \n",
    "    if x == n - 1 and y == m - 1:\n",
    "        return arr[x][y]\n",
    "    \n",
    "    if dp[x][y] != LOWER_LIMIT:\n",
    "        return dp[x][y]\n",
    "    \n",
    "    for dx, dy in DIRECTION:\n",
    "        nx = x + dx\n",
    "        ny = y + dy\n",
    "        \n",
    "        if nx < 0 or ny < 0 or nx >= n or ny >= m:\n",
    "            continue\n",
    "            \n",
    "        if visited[nx][ny]:\n",
    "            continue\n",
    "        \n",
    "        visited[nx][ny] = True\n",
    "        dp[x][y] = max(dp[x][y], dfs(nx,ny) + arr[nx][ny])\n",
    "        visited[nx][ny] = False\n",
    "    \n",
    "    if dp[x][y] == LOWER_LIMIT:\n",
    "        dp[x][y] = 0\n",
    "        \n",
    "    dp[x][y] += arr[x][y]\n",
    "    return dp[x][y]\n",
    "\n",
    "print(dfs(0,0))"
   ]
  },
  {
   "cell_type": "code",
   "execution_count": null,
   "id": "6c9a6b11",
   "metadata": {},
   "outputs": [],
   "source": []
  }
 ],
 "metadata": {
  "kernelspec": {
   "display_name": "Python 3 (ipykernel)",
   "language": "python",
   "name": "python3"
  },
  "language_info": {
   "codemirror_mode": {
    "name": "ipython",
    "version": 3
   },
   "file_extension": ".py",
   "mimetype": "text/x-python",
   "name": "python",
   "nbconvert_exporter": "python",
   "pygments_lexer": "ipython3",
   "version": "3.10.0"
  }
 },
 "nbformat": 4,
 "nbformat_minor": 5
}
