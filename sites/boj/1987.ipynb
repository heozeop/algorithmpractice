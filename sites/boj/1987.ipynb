{
 "cells": [
  {
   "cell_type": "code",
   "execution_count": 8,
   "id": "287b21e5",
   "metadata": {},
   "outputs": [
    {
     "name": "stdout",
     "output_type": "stream",
     "text": [
      "2 4\n",
      "CAAB\n",
      "ADCB\n"
     ]
    }
   ],
   "source": [
    "import sys\n",
    "\n",
    "n,m = list(map(int, input().split()))\n",
    "\n",
    "board = []\n",
    "for _ in range(n):\n",
    "    board.append(list(input()))"
   ]
  },
  {
   "cell_type": "code",
   "execution_count": 11,
   "id": "de008d48",
   "metadata": {},
   "outputs": [
    {
     "name": "stdout",
     "output_type": "stream",
     "text": [
      "3\n"
     ]
    }
   ],
   "source": [
    "directions = [\n",
    "    [0,1],[0,-1],[1,0],[-1,0]\n",
    "]\n",
    "\n",
    "check = [0]* 26\n",
    "\n",
    "max_value = 0\n",
    "check[ord(board[0][0]) - 65] = 1\n",
    "\n",
    "\n",
    "def backtrack(x,y,count):\n",
    "    global n,m,board,max_value\n",
    "    \n",
    "    for i in range(4):\n",
    "        nx = x + directions[i][0]\n",
    "        ny = y + directions[i][1]\n",
    "        \n",
    "        if nx < 0 or ny < 0 or nx >= n or ny >= m:\n",
    "            continue\n",
    "        \n",
    "        if check[ord(board[nx][ny]) - 65] == 1:\n",
    "            continue\n",
    "        \n",
    "        check[ord(board[nx][ny]) - 65] = 1\n",
    "        backtrack(nx,ny,count + 1)\n",
    "        check[ord(board[nx][ny]) - 65] = 0\n",
    "        \n",
    "    max_value = max(max_value, count)\n",
    "    \n",
    "backtrack(0,0,1)\n",
    "print(max_value)\n",
    "        "
   ]
  },
  {
   "cell_type": "code",
   "execution_count": null,
   "id": "cecd057a",
   "metadata": {},
   "outputs": [],
   "source": []
  }
 ],
 "metadata": {
  "kernelspec": {
   "display_name": "Python 3 (ipykernel)",
   "language": "python",
   "name": "python3"
  },
  "language_info": {
   "codemirror_mode": {
    "name": "ipython",
    "version": 3
   },
   "file_extension": ".py",
   "mimetype": "text/x-python",
   "name": "python",
   "nbconvert_exporter": "python",
   "pygments_lexer": "ipython3",
   "version": "3.10.0"
  }
 },
 "nbformat": 4,
 "nbformat_minor": 5
}
