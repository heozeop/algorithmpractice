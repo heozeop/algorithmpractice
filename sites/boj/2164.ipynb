{
 "cells": [
  {
   "cell_type": "code",
   "execution_count": 3,
   "id": "74a58620",
   "metadata": {},
   "outputs": [
    {
     "name": "stdout",
     "output_type": "stream",
     "text": [
      "6\n"
     ]
    },
    {
     "ename": "AttributeError",
     "evalue": "'collections.deque' object has no attribute 'push'",
     "output_type": "error",
     "traceback": [
      "\u001b[0;31m---------------------------------------------------------------------------\u001b[0m",
      "\u001b[0;31mAttributeError\u001b[0m                            Traceback (most recent call last)",
      "Input \u001b[0;32mIn [3]\u001b[0m, in \u001b[0;36m<cell line: 6>\u001b[0;34m()\u001b[0m\n\u001b[1;32m      7\u001b[0m     deck\u001b[38;5;241m.\u001b[39mpopleft()\n\u001b[1;32m      8\u001b[0m     nextVal \u001b[38;5;241m=\u001b[39m deck\u001b[38;5;241m.\u001b[39mpopleft()\n\u001b[0;32m----> 9\u001b[0m     \u001b[43mdeck\u001b[49m\u001b[38;5;241;43m.\u001b[39;49m\u001b[43mpush\u001b[49m(nextVal)\n\u001b[1;32m     11\u001b[0m \u001b[38;5;28mprint\u001b[39m(deck[\u001b[38;5;241m0\u001b[39m])\n",
      "\u001b[0;31mAttributeError\u001b[0m: 'collections.deque' object has no attribute 'push'"
     ]
    }
   ],
   "source": [
    "from collections import deque\n",
    "n = int(input())\n",
    "\n",
    "deck = deque([i for i in range(1, n+1)])\n",
    "\n",
    "while(len(deck) > 1):\n",
    "    deck.popleft()\n",
    "    nextVal = deck.popleft()\n",
    "    deck.push(nextVal)\n",
    "\n",
    "print(deck[0])"
   ]
  },
  {
   "cell_type": "code",
   "execution_count": null,
   "id": "e4db6caa",
   "metadata": {},
   "outputs": [],
   "source": []
  }
 ],
 "metadata": {
  "kernelspec": {
   "display_name": "Python 3 (ipykernel)",
   "language": "python",
   "name": "python3"
  },
  "language_info": {
   "codemirror_mode": {
    "name": "ipython",
    "version": 3
   },
   "file_extension": ".py",
   "mimetype": "text/x-python",
   "name": "python",
   "nbconvert_exporter": "python",
   "pygments_lexer": "ipython3",
   "version": "3.10.0"
  }
 },
 "nbformat": 4,
 "nbformat_minor": 5
}
