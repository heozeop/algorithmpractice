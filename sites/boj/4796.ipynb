{
 "cells": [
  {
   "cell_type": "code",
   "execution_count": 3,
   "id": "39e5c354",
   "metadata": {},
   "outputs": [
    {
     "name": "stdout",
     "output_type": "stream",
     "text": [
      "5 8 20\n",
      "Case 1: 14\n",
      "5 8 17\n",
      "Case 2: 11\n",
      "0 0 0\n"
     ]
    }
   ],
   "source": [
    "case = 1\n",
    "while True:\n",
    "    l,p,v = list(map(int, input().split()))\n",
    "    if p == 0 and l == 0 and v == 0:\n",
    "        break;\n",
    "    \n",
    "    restTime = 0\n",
    "    timeSpend = 0\n",
    "    while timeSpend < v:\n",
    "        if timeSpend + l > v:\n",
    "            restTime += v - timeSpend\n",
    "            break\n",
    "        \n",
    "        restTime += l\n",
    "        timeSpend += p\n",
    "    print(f\"Case {case}: {restTime}\")\n",
    "    case += 1"
   ]
  },
  {
   "cell_type": "code",
   "execution_count": null,
   "id": "73bac400",
   "metadata": {},
   "outputs": [],
   "source": []
  }
 ],
 "metadata": {
  "kernelspec": {
   "display_name": "Python 3 (ipykernel)",
   "language": "python",
   "name": "python3"
  },
  "language_info": {
   "codemirror_mode": {
    "name": "ipython",
    "version": 3
   },
   "file_extension": ".py",
   "mimetype": "text/x-python",
   "name": "python",
   "nbconvert_exporter": "python",
   "pygments_lexer": "ipython3",
   "version": "3.10.0"
  }
 },
 "nbformat": 4,
 "nbformat_minor": 5
}
