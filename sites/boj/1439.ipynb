{
 "cells": [
  {
   "cell_type": "code",
   "execution_count": 7,
   "id": "b0445a42",
   "metadata": {},
   "outputs": [
    {
     "name": "stdout",
     "output_type": "stream",
     "text": [
      "11101101\n",
      "2\n"
     ]
    }
   ],
   "source": [
    "n = input()\n",
    "count0 = 0\n",
    "count1 = 0\n",
    "\n",
    "prev = n[0]\n",
    "if n[0] == '1':\n",
    "    count1 += 1\n",
    "else:\n",
    "    count0 += 1\n",
    "    \n",
    "for i in n[1:]:\n",
    "    if prev == i:\n",
    "        continue\n",
    "    \n",
    "    if prev == '1':\n",
    "        count0 += 1\n",
    "    else:\n",
    "        count1 += 1\n",
    "    prev = i\n",
    "    \n",
    "print(min(count0, count1))"
   ]
  },
  {
   "cell_type": "code",
   "execution_count": null,
   "id": "e5f671a2",
   "metadata": {},
   "outputs": [],
   "source": []
  }
 ],
 "metadata": {
  "kernelspec": {
   "display_name": "Python 3 (ipykernel)",
   "language": "python",
   "name": "python3"
  },
  "language_info": {
   "codemirror_mode": {
    "name": "ipython",
    "version": 3
   },
   "file_extension": ".py",
   "mimetype": "text/x-python",
   "name": "python",
   "nbconvert_exporter": "python",
   "pygments_lexer": "ipython3",
   "version": "3.10.0"
  }
 },
 "nbformat": 4,
 "nbformat_minor": 5
}
