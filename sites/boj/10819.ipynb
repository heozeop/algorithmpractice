{
 "cells": [
  {
   "cell_type": "code",
   "execution_count": 59,
   "id": "355276aa",
   "metadata": {},
   "outputs": [],
   "source": [
    "arr = list(map(int,\"20 1 15 8 4 10\".split()))"
   ]
  },
  {
   "cell_type": "code",
   "execution_count": 75,
   "id": "922da9b0",
   "metadata": {},
   "outputs": [
    {
     "name": "stdout",
     "output_type": "stream",
     "text": [
      "62\n"
     ]
    }
   ],
   "source": [
    "# n = input()\n",
    "# arr = [int(i) for i in input().split()]\n",
    "n = 6\n",
    "arr = list(map(int,\"20 1 15 8 4 10\".split()))\n",
    "temp = []\n",
    "visited = [False] * n\n",
    "ans = 0\n",
    "\n",
    "def calc(numbers):\n",
    "    n = len(numbers)\n",
    "    sumVal = 0\n",
    "    for i in range(1, n):\n",
    "        sumVal += abs(numbers[i - 1] - numbers[i])\n",
    "    return sumVal\n",
    "\n",
    "def dfs(idx):\n",
    "    global n, ans\n",
    "    if idx == n:\n",
    "        ans = max(ans, calc(temp))\n",
    "        return\n",
    "    \n",
    "\n",
    "    for i in range(n):\n",
    "        if visited[i]:\n",
    "            continue\n",
    "        visited[i] = True\n",
    "        temp.append(arr[i])\n",
    "        dfs(idx + 1)\n",
    "        temp.pop()\n",
    "        visited[i] = False\n",
    "\n",
    "    return\n",
    "dfs(0)\n",
    "print(ans)"
   ]
  },
  {
   "cell_type": "code",
   "execution_count": 63,
   "id": "82bb4c7a",
   "metadata": {},
   "outputs": [
    {
     "name": "stdout",
     "output_type": "stream",
     "text": [
      "62\n"
     ]
    }
   ],
   "source": [
    "from itertools import permutations\n",
    "\n",
    "permute = permutations(arr)\n",
    "\n",
    "def calc(numbers):\n",
    "    n = len(numbers)\n",
    "    sumVal = 0\n",
    "    for i in range(1, n):\n",
    "        sumVal += abs(numbers[i - 1] - numbers[i])\n",
    "    return sumVal\n",
    "\n",
    "maxVal = 0;\n",
    "for i in permute:\n",
    "    maxVal = max(maxVal, calc(i))\n",
    "      \n",
    "print(maxVal)"
   ]
  },
  {
   "cell_type": "code",
   "execution_count": null,
   "id": "bebc2596",
   "metadata": {},
   "outputs": [],
   "source": []
  },
  {
   "cell_type": "code",
   "execution_count": null,
   "id": "a8de35e6",
   "metadata": {},
   "outputs": [],
   "source": []
  }
 ],
 "metadata": {
  "kernelspec": {
   "display_name": "Python 3 (ipykernel)",
   "language": "python",
   "name": "python3"
  },
  "language_info": {
   "codemirror_mode": {
    "name": "ipython",
    "version": 3
   },
   "file_extension": ".py",
   "mimetype": "text/x-python",
   "name": "python",
   "nbconvert_exporter": "python",
   "pygments_lexer": "ipython3",
   "version": "3.10.0"
  }
 },
 "nbformat": 4,
 "nbformat_minor": 5
}
