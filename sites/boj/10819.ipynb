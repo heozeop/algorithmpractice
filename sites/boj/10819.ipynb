{
 "cells": [
  {
   "cell_type": "code",
   "execution_count": 1,
   "id": "355276aa",
   "metadata": {},
   "outputs": [],
   "source": [
    "n = 6\n",
    "arr = \"20 1 15 8 4 10\".split()"
   ]
  },
  {
   "cell_type": "code",
   "execution_count": 2,
   "id": "922da9b0",
   "metadata": {},
   "outputs": [],
   "source": [
    "def calc(numbers):\n",
    "    n = len(numbers)\n",
    "    sumVal = 0\n",
    "    for i in range(1, n):\n",
    "        sumVal += abs(numbers[i] - numbers[i - 1])\n",
    "    return sumVal\n"
   ]
  },
  {
   "cell_type": "code",
   "execution_count": 3,
   "id": "82bb4c7a",
   "metadata": {},
   "outputs": [],
   "source": [
    "def dfs(idx, numbers):\n",
    "    if idx == len(numbers):\n",
    "        return calc(numbers)\n",
    "    \n",
    "    maxVal = 0\n",
    "    n = len(numbers)\n",
    "    for i in range(idx + 1, n):\n",
    "        temp = numbers[i]\n",
    "        numbers[i] = numbers[idx]\n",
    "        numbers[idx] = temp\n",
    "        maxVal = max(maxVal, dfs(idx+ 1, numbers))\n",
    "        numbers[idx] = numbers[i]\n",
    "        numbers[i] = temp\n",
    "    return maxVal\n",
    "    "
   ]
  },
  {
   "cell_type": "code",
   "execution_count": 4,
   "id": "bebc2596",
   "metadata": {},
   "outputs": [
    {
     "data": {
      "text/plain": [
       "0"
      ]
     },
     "execution_count": 4,
     "metadata": {},
     "output_type": "execute_result"
    }
   ],
   "source": [
    "dfs(0, arr)"
   ]
  },
  {
   "cell_type": "code",
   "execution_count": null,
   "id": "a8de35e6",
   "metadata": {},
   "outputs": [],
   "source": []
  }
 ],
 "metadata": {
  "kernelspec": {
   "display_name": "Python 3 (ipykernel)",
   "language": "python",
   "name": "python3"
  },
  "language_info": {
   "codemirror_mode": {
    "name": "ipython",
    "version": 3
   },
   "file_extension": ".py",
   "mimetype": "text/x-python",
   "name": "python",
   "nbconvert_exporter": "python",
   "pygments_lexer": "ipython3",
   "version": "3.10.0"
  }
 },
 "nbformat": 4,
 "nbformat_minor": 5
}
