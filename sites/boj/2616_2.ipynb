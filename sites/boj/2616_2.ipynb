{
 "cells": [
  {
   "cell_type": "code",
   "execution_count": 20,
   "id": "0e4f0c07",
   "metadata": {
    "scrolled": true
   },
   "outputs": [
    {
     "name": "stdout",
     "output_type": "stream",
     "text": [
      "7\n",
      "35 40 50 10 30 45 60\n",
      "2\n",
      "1\n",
      "5\n",
      "1\n",
      "5\n",
      "1\n",
      "5\n",
      "1\n",
      "5\n",
      "235\n"
     ]
    }
   ],
   "source": [
    "n = int(input())\n",
    "arr = list(map(int, input().split()))\n",
    "m = int(input())\n",
    "\n",
    "sub_sum = []\n",
    "sum_val = 0\n",
    "for i in range(m):\n",
    "    sum_val += arr[i]\n",
    "    \n",
    "sub_sum.append([sum_val, 0, m - 1])\n",
    "\n",
    "for i in range(n - m):\n",
    "    sum_val -= arr[i]\n",
    "    sum_val += arr[i + m]\n",
    "    sub_sum.append([sum_val, i + 1, i + m])\n",
    "\n",
    "sub_sum.sort(reverse=True)\n",
    "\n",
    "def get_indexes(first_index):\n",
    "    \n",
    "    second_index = 0\n",
    "    third_index = 0\n",
    "    \n",
    "    first_value, first_start, first_end = sub_sum[first_index]\n",
    "    for i in range(first_index + 1, n - m + 1):\n",
    "        value, start, end = sub_sum[i]\n",
    "        if first_start <= start <= first_end or first_start <= end <= first_end:\n",
    "            continue\n",
    "        second_index = i\n",
    "        break\n",
    "\n",
    "    print(second_index)\n",
    "    second_value, second_start, second_end = sub_sum[second_index]\n",
    "    for i in range(second_index + 1, n - m + 1):\n",
    "        value, start, end = sub_sum[i]\n",
    "        if first_start <= start <= first_end or first_start <= end <= first_end:\n",
    "            continue\n",
    "        if second_start <= start <= second_end or second_start <= end <= second_end:\n",
    "            continue\n",
    "        third_index = i\n",
    "        break\n",
    "        \n",
    "    print(third_index)\n",
    "    return first_index, second_index, third_index\n",
    "\n",
    "def calc_max_value(first_index, second_index, third_index):\n",
    "    return sub_sum[first_index][0] + sub_sum[second_index][0] + sub_sum[third_index][0]\n",
    "\n",
    "max_val = 0\n",
    "first_index, second_index = n, third_index\n",
    "for i in range(2 * m):\n",
    "    next_first_index, next_second_index, next_third_index = get_indexes(0)\n",
    "    max_val = max(max_val, calc_max_value(next_first_index, next_second_index, next_third_index))\n",
    "    \n",
    "    if second_index > next_third_index:\n",
    "        break\n",
    "        \n",
    "    first_index, second_index, third_index = next_first_index, next_second_index, next_third_index\n",
    "\n",
    "print(max_val)\n",
    "    "
   ]
  },
  {
   "cell_type": "code",
   "execution_count": 18,
   "id": "7827d063",
   "metadata": {
    "scrolled": true
   },
   "outputs": [
    {
     "data": {
      "text/plain": [
       "[[105, 5, 6], [90, 1, 2], [75, 4, 5], [75, 0, 1], [60, 2, 3], [40, 3, 4]]"
      ]
     },
     "execution_count": 18,
     "metadata": {},
     "output_type": "execute_result"
    }
   ],
   "source": [
    "sub_sum\n"
   ]
  },
  {
   "cell_type": "code",
   "execution_count": null,
   "id": "76a98e60",
   "metadata": {},
   "outputs": [],
   "source": []
  }
 ],
 "metadata": {
  "kernelspec": {
   "display_name": "Python 3 (ipykernel)",
   "language": "python",
   "name": "python3"
  },
  "language_info": {
   "codemirror_mode": {
    "name": "ipython",
    "version": 3
   },
   "file_extension": ".py",
   "mimetype": "text/x-python",
   "name": "python",
   "nbconvert_exporter": "python",
   "pygments_lexer": "ipython3",
   "version": "3.10.0"
  }
 },
 "nbformat": 4,
 "nbformat_minor": 5
}
