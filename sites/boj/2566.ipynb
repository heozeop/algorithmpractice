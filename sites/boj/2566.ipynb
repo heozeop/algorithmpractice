{
 "cells": [
  {
   "cell_type": "code",
   "execution_count": null,
   "id": "00326832",
   "metadata": {},
   "outputs": [],
   "source": [
    "arr = []\n",
    "a = 0\n",
    "b = 0\n",
    "maxVal = 0\n",
    "\n",
    "for i in range(9):\n",
    "    arr.append(list(map(int, input().split())))\n",
    "\n",
    "for i in range(9): \n",
    "    for j in range(9):\n",
    "        if maxVal < arr[i][j]:\n",
    "            maxVal = arr[i][j]\n",
    "            a = i\n",
    "            b = j\n",
    "\n",
    "print(maxVal)\n",
    "print(f\"{a + 1} {b + 1}\")"
   ]
  },
  {
   "cell_type": "code",
   "execution_count": null,
   "id": "1c62f320",
   "metadata": {},
   "outputs": [],
   "source": []
  }
 ],
 "metadata": {
  "kernelspec": {
   "display_name": "Python 3 (ipykernel)",
   "language": "python",
   "name": "python3"
  },
  "language_info": {
   "codemirror_mode": {
    "name": "ipython",
    "version": 3
   },
   "file_extension": ".py",
   "mimetype": "text/x-python",
   "name": "python",
   "nbconvert_exporter": "python",
   "pygments_lexer": "ipython3",
   "version": "3.10.0"
  }
 },
 "nbformat": 4,
 "nbformat_minor": 5
}
