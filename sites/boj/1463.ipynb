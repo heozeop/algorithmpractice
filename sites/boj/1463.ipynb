{
 "cells": [
  {
   "cell_type": "code",
   "execution_count": 3,
   "id": "bddd234a",
   "metadata": {},
   "outputs": [
    {
     "name": "stdout",
     "output_type": "stream",
     "text": [
      "2\n",
      "1\n"
     ]
    }
   ],
   "source": [
    "n = int(input())\n",
    "\n",
    "INF = 1e9\n",
    "\n",
    "arr = [INF] * (n + 1)\n",
    "\n",
    "arr[n] = 0\n",
    "\n",
    "for i in range(n, 0, -1):\n",
    "    if i % 3 == 0:\n",
    "        arr[int(i/3)] = min(arr[int(i/3)], arr[i] + 1)\n",
    "    if i % 2 == 0:\n",
    "        arr[int(i/2)] = min(arr[int(i/2)], arr[i] + 1)\n",
    "    arr[i-1] = min(arr[i-1], arr[i] + 1)\n",
    "    \n",
    "print(arr[1])"
   ]
  },
  {
   "cell_type": "code",
   "execution_count": null,
   "id": "1071a2c4",
   "metadata": {},
   "outputs": [],
   "source": []
  }
 ],
 "metadata": {
  "kernelspec": {
   "display_name": "Python 3 (ipykernel)",
   "language": "python",
   "name": "python3"
  },
  "language_info": {
   "codemirror_mode": {
    "name": "ipython",
    "version": 3
   },
   "file_extension": ".py",
   "mimetype": "text/x-python",
   "name": "python",
   "nbconvert_exporter": "python",
   "pygments_lexer": "ipython3",
   "version": "3.10.0"
  }
 },
 "nbformat": 4,
 "nbformat_minor": 5
}
