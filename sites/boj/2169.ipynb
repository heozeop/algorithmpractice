{
 "cells": [
  {
   "cell_type": "code",
   "execution_count": 59,
   "id": "3e9909de",
   "metadata": {},
   "outputs": [
    {
     "name": "stdout",
     "output_type": "stream",
     "text": [
      "0/0:10 0/1:35 0/2:42 0/3:50 0/4:63 \n",
      "1/0:172 1/1:104 1/2:80 1/3:158 1/4:145 \n",
      "2/0:184 2/1:160 2/2:229 2/3:186 2/4:161 \n",
      "3/0:168 3/1:150 3/2:172 3/3:227 3/4:260 \n",
      "4/0:272 4/1:265 4/2:341 4/3:352 4/4:319 \n",
      "319\n"
     ]
    }
   ],
   "source": [
    "n,m = list(map(int, input().split()))\n",
    "arr = []\n",
    "\n",
    "\n",
    "for _ in range(n):\n",
    "    arr.append(list(map(int, input().split())))\n",
    "\n",
    "# n = m = 5\n",
    "# arr = [\n",
    "# [10, 25, 7 ,8, 13],\n",
    "# [68, 24, -78, 63, 32],\n",
    "# [12, -69, 100, -29, -25],\n",
    "# [-16, -22, -57, -33, 99],\n",
    "# [7, -76, -11, 77, 15],\n",
    "# ]\n",
    "\n",
    "for i in range(1, m):\n",
    "    arr[0][i] += arr[0][i - 1]\n",
    "\n",
    "for i in range(1, n):\n",
    "    left = arr[i][:]\n",
    "    right = arr[i][:]\n",
    "    \n",
    "    for j in range(m):\n",
    "        if j == 0:\n",
    "            left[j] += arr[i-1][j]\n",
    "        else:\n",
    "            left[j] += max(arr[i-1][j], left[j-1])\n",
    "    \n",
    "    for j in range(m - 1, -1, -1):\n",
    "        if j == m-1:\n",
    "            right[j] += arr[i-1][j]\n",
    "        else:\n",
    "            right[j] += max(arr[i-1][j], right[j + 1])\n",
    "            \n",
    "    for j in range(m):\n",
    "        arr[i][j] = max(left[j],right[j])\n",
    "    \n",
    "\n",
    "print(arr[n-1][m-1])"
   ]
  },
  {
   "cell_type": "code",
   "execution_count": null,
   "id": "3cca25a8",
   "metadata": {},
   "outputs": [],
   "source": []
  }
 ],
 "metadata": {
  "kernelspec": {
   "display_name": "Python 3 (ipykernel)",
   "language": "python",
   "name": "python3"
  },
  "language_info": {
   "codemirror_mode": {
    "name": "ipython",
    "version": 3
   },
   "file_extension": ".py",
   "mimetype": "text/x-python",
   "name": "python",
   "nbconvert_exporter": "python",
   "pygments_lexer": "ipython3",
   "version": "3.10.0"
  }
 },
 "nbformat": 4,
 "nbformat_minor": 5
}
