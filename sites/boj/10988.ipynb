{
 "cells": [
  {
   "cell_type": "code",
   "execution_count": null,
   "id": "7471a8ca",
   "metadata": {},
   "outputs": [],
   "source": [
    "n = input()\n",
    "isPallendrom = False\n",
    "if len(n) % 2 == 1:\n",
    "    isPallendrom = n[:len(n)//2] == n[len(n)//2 + 1:][::-1]\n",
    "else:\n",
    "    isPallendrom = n[:len(n)//2] == n[len(n)//2:][::-1]\n",
    "\n",
    "if isPallendrom:\n",
    "    print(1)\n",
    "else:\n",
    "    print(0)\n"
   ]
  },
  {
   "cell_type": "code",
   "execution_count": null,
   "id": "e574cbee",
   "metadata": {},
   "outputs": [],
   "source": []
  }
 ],
 "metadata": {
  "kernelspec": {
   "display_name": "Python 3 (ipykernel)",
   "language": "python",
   "name": "python3"
  },
  "language_info": {
   "codemirror_mode": {
    "name": "ipython",
    "version": 3
   },
   "file_extension": ".py",
   "mimetype": "text/x-python",
   "name": "python",
   "nbconvert_exporter": "python",
   "pygments_lexer": "ipython3",
   "version": "3.10.0"
  }
 },
 "nbformat": 4,
 "nbformat_minor": 5
}
