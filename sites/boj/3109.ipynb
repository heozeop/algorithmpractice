{
 "cells": [
  {
   "cell_type": "code",
   "execution_count": null,
   "id": "79024568",
   "metadata": {},
   "outputs": [],
   "source": [
    "r,c = list(map(int, input().split()))\n",
    "road = [0] * r\n",
    "for i in range(r):\n",
    "    road[i] = list(map(str, input()))"
   ]
  },
  {
   "cell_type": "code",
   "execution_count": 83,
   "id": "cb0878af",
   "metadata": {},
   "outputs": [],
   "source": [
    "r, c = list(map(int, \"6 10\".split()))\n",
    "road = list(map(list,\"\"\"..x.......\n",
    ".....x....\n",
    ".x....x...\n",
    "...x...xx.\n",
    "..........\n",
    "....x.....\"\"\".split()))"
   ]
  },
  {
   "cell_type": "code",
   "execution_count": 84,
   "id": "9fab4a2d",
   "metadata": {},
   "outputs": [
    {
     "name": "stdout",
     "output_type": "stream",
     "text": [
      "[['.', '.', 'x', '.', '.', '.', '.', '.', '.', '.'], ['.', '.', '.', '.', '.', 'x', '.', '.', '.', '.'], ['.', 'x', '.', '.', '.', '.', 'x', '.', '.', '.'], ['.', '.', '.', 'x', '.', '.', '.', 'x', 'x', '.'], ['.', '.', '.', '.', '.', '.', '.', '.', '.', '.'], ['.', '.', '.', '.', 'x', '.', '.', '.', '.', '.']] 6 10\n"
     ]
    }
   ],
   "source": [
    "print(road, r, c\n",
    "     )"
   ]
  },
  {
   "cell_type": "code",
   "execution_count": 85,
   "id": "f9196e2a",
   "metadata": {},
   "outputs": [
    {
     "name": "stdout",
     "output_type": "stream",
     "text": [
      "[['R', 'R', 'x', 'R', 'R', 'R', 'R', 'R', 'R', 'R'], ['R', 'R', 'R', 'R', 'R', 'x', 'R', 'R', 'R', 'R'], ['R', 'x', 'R', 'R', 'R', 'R', 'x', 'R', 'R', 'R'], ['R', 'R', 'R', 'x', 'R', 'R', 'R', 'x', 'x', 'R'], ['R', 'R', 'R', 'R', 'R', 'R', 'R', 'R', 'R', 'R'], ['R', 'R', 'R', 'R', 'x', 'R', 'R', 'R', 'R', '.']]\n",
      "5\n"
     ]
    }
   ],
   "source": [
    "REGIDENT = 'R'\n",
    "\n",
    "direction = [\n",
    "    [-1, 1],\n",
    "    [0, 1],\n",
    "    [1, 1]\n",
    "]\n",
    "\n",
    "answer = 0\n",
    "for i in range(r):\n",
    "    road[i][0] = REGIDENT\n",
    "    if dfs(i,0):\n",
    "        answer += 1\n",
    "       \n",
    "print(answer)\n",
    "\n",
    "def dfs(x,y):\n",
    "    if y == c - 1:\n",
    "        road[x][y] = REGIDENT\n",
    "        return True\n",
    "    \n",
    "    for [dx, dy] in direction:\n",
    "        nx = x + dx\n",
    "        ny = y + dy\n",
    "        if nx < 0 or nx >= r or ny < 0 or ny >= c:\n",
    "            continue\n",
    "        if road[nx][ny] == 'x':\n",
    "            continue\n",
    "        if road[nx][ny] == REGIDENT:\n",
    "            continue\n",
    "        road[nx][ny] = REGIDENT\n",
    "        if dfs(nx,ny):\n",
    "            return True\n",
    "    \n",
    "    return False\n"
   ]
  },
  {
   "cell_type": "code",
   "execution_count": null,
   "id": "759b6913",
   "metadata": {},
   "outputs": [],
   "source": []
  }
 ],
 "metadata": {
  "kernelspec": {
   "display_name": "Python 3 (ipykernel)",
   "language": "python",
   "name": "python3"
  },
  "language_info": {
   "codemirror_mode": {
    "name": "ipython",
    "version": 3
   },
   "file_extension": ".py",
   "mimetype": "text/x-python",
   "name": "python",
   "nbconvert_exporter": "python",
   "pygments_lexer": "ipython3",
   "version": "3.10.0"
  }
 },
 "nbformat": 4,
 "nbformat_minor": 5
}
