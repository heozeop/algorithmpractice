{
 "cells": [
  {
   "cell_type": "code",
   "execution_count": 1,
   "id": "bf0e3c30",
   "metadata": {},
   "outputs": [
    {
     "name": "stdout",
     "output_type": "stream",
     "text": [
      "11 25\n",
      "37 36\n"
     ]
    }
   ],
   "source": [
    "a,b = input().split()\n",
    "\n",
    "ma = a.replace('5', '6')\n",
    "mb = b.replace('5', '6')\n",
    "\n",
    "maxVal = int(ma) + int(mb)\n",
    "\n",
    "ma = a.replace('6', '5')\n",
    "mb = b.replace('6', '5')\n",
    "minVal = int(ma) + int(mb)\n",
    "\n",
    "print(f\"{maxVal} {minVal}\")\n",
    "\n",
    "\n"
   ]
  }
 ],
 "metadata": {
  "kernelspec": {
   "display_name": "Python 3 (ipykernel)",
   "language": "python",
   "name": "python3"
  },
  "language_info": {
   "codemirror_mode": {
    "name": "ipython",
    "version": 3
   },
   "file_extension": ".py",
   "mimetype": "text/x-python",
   "name": "python",
   "nbconvert_exporter": "python",
   "pygments_lexer": "ipython3",
   "version": "3.10.0"
  }
 },
 "nbformat": 4,
 "nbformat_minor": 5
}
